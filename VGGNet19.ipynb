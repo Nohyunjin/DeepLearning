{
  "nbformat": 4,
  "nbformat_minor": 0,
  "metadata": {
    "colab": {
      "name": "VGGNet19.ipynb",
      "provenance": [],
      "authorship_tag": "ABX9TyOTe2+aahFPtYLbRM10YAOB",
      "include_colab_link": true
    },
    "kernelspec": {
      "name": "python3",
      "display_name": "Python 3"
    },
    "language_info": {
      "name": "python"
    }
  },
  "cells": [
    {
      "cell_type": "markdown",
      "metadata": {
        "id": "view-in-github",
        "colab_type": "text"
      },
      "source": [
        "<a href=\"https://colab.research.google.com/github/Nohyunjin/DeepLearning/blob/main/VGGNet19.ipynb\" target=\"_parent\"><img src=\"https://colab.research.google.com/assets/colab-badge.svg\" alt=\"Open In Colab\"/></a>"
      ]
    },
    {
      "cell_type": "code",
      "execution_count": 9,
      "metadata": {
        "id": "yI1jJ83bsCZi"
      },
      "outputs": [],
      "source": [
        "import tensorflow as tf\n",
        "from tensorflow.keras.datasets import mnist\n",
        "from tensorflow.keras.models import Sequential\n",
        "from tensorflow.keras.layers import Dense, Dropout, Flatten\n",
        "from tensorflow.keras.layers import Conv2D, MaxPooling2D\n",
        "from tensorflow.keras.initializers import RandomNormal\n",
        "\n",
        "\n",
        "class VGG19:\n",
        "    @staticmethod\n",
        "    def build(input_shape=(224,224,3), activation = \"relu\"):\n",
        "        model = Sequential()\n",
        "\n",
        "        model.add(Conv2D(64, (3, 3), input_shape = input_shape, activation = activation, padding = \"same\", kernel_initializer = RandomNormal(stddev = 0.01)))\n",
        "        model.add(Conv2D(64, (3, 3), input_shape = input_shape, activation = activation, padding = \"same\", kernel_initializer = RandomNormal(stddev = 0.01)))\n",
        "        model.add(MaxPooling2D(pool_size = (2, 2)))\n",
        "\n",
        "        model.add(Conv2D(128, (3, 3), input_shape = input_shape, activation = activation, padding = \"same\", kernel_initializer = RandomNormal(stddev = 0.01)))\n",
        "        model.add(Conv2D(128, (3, 3), input_shape = input_shape, activation = activation, padding = \"same\", kernel_initializer = RandomNormal(stddev = 0.01)))\n",
        "        model.add(MaxPooling2D(pool_size = (2, 2)))\n",
        "\n",
        "        model.add(Conv2D(256, (3, 3), input_shape = input_shape, activation = activation, padding = \"same\", kernel_initializer = RandomNormal(stddev = 0.01)))\n",
        "        model.add(Conv2D(256, (3, 3), input_shape = input_shape, activation = activation, padding = \"same\", kernel_initializer = RandomNormal(stddev = 0.01)))\n",
        "        model.add(Conv2D(256, (3, 3), input_shape = input_shape, activation = activation, padding = \"same\", kernel_initializer = RandomNormal(stddev = 0.01)))\n",
        "        model.add(Conv2D(256, (3, 3), input_shape = input_shape, activation = activation, padding = \"same\", kernel_initializer = RandomNormal(stddev = 0.01)))\n",
        "        model.add(MaxPooling2D(pool_size = (2, 2)))\n",
        "\n",
        "        model.add(Conv2D(512, (3, 3), input_shape = input_shape, activation = activation, padding = \"same\", kernel_initializer = RandomNormal(stddev = 0.01)))\n",
        "        model.add(Conv2D(512, (3, 3), input_shape = input_shape, activation = activation, padding = \"same\", kernel_initializer = RandomNormal(stddev = 0.01)))\n",
        "        model.add(Conv2D(512, (3, 3), input_shape = input_shape, activation = activation, padding = \"same\", kernel_initializer = RandomNormal(stddev = 0.01)))\n",
        "        model.add(Conv2D(512, (3, 3), input_shape = input_shape, activation = activation, padding = \"same\", kernel_initializer = RandomNormal(stddev = 0.01)))\n",
        "        model.add(MaxPooling2D(pool_size = (2, 2)))\n",
        "\n",
        "        model.add(Conv2D(512, (3, 3), input_shape = input_shape, activation = activation, padding = \"same\", kernel_initializer = RandomNormal(stddev = 0.01)))\n",
        "        model.add(Conv2D(512, (3, 3), input_shape = input_shape, activation = activation, padding = \"same\", kernel_initializer = RandomNormal(stddev = 0.01)))\n",
        "        model.add(Conv2D(512, (3, 3), input_shape = input_shape, activation = activation, padding = \"same\", kernel_initializer = RandomNormal(stddev = 0.01)))\n",
        "        model.add(Conv2D(512, (3, 3), input_shape = input_shape, activation = activation, padding = \"same\", kernel_initializer = RandomNormal(stddev = 0.01)))\n",
        "        model.add(MaxPooling2D(pool_size = (2, 2)))\n",
        "\n",
        "        model.add(Flatten())\n",
        "        model.add(Dense(4096, activation = \"relu\"))\n",
        "        model.add(Dense(4096, activation = \"relu\"))\n",
        "        model.add(Dense(1000, activation = \"softmax\"))\n",
        "\n",
        "        return model"
      ]
    },
    {
      "cell_type": "code",
      "source": [
        "model = VGG19.build()\n",
        "model.summary()"
      ],
      "metadata": {
        "colab": {
          "base_uri": "https://localhost:8080/"
        },
        "id": "wDQHFikV27sn",
        "outputId": "af72940c-9bbf-4f60-a38a-7d60854c2228"
      },
      "execution_count": 10,
      "outputs": [
        {
          "output_type": "stream",
          "name": "stdout",
          "text": [
            "Model: \"sequential_2\"\n",
            "_________________________________________________________________\n",
            " Layer (type)                Output Shape              Param #   \n",
            "=================================================================\n",
            " conv2d_1 (Conv2D)           (None, 224, 224, 64)      1792      \n",
            "                                                                 \n",
            " conv2d_2 (Conv2D)           (None, 224, 224, 64)      36928     \n",
            "                                                                 \n",
            " max_pooling2d (MaxPooling2D  (None, 112, 112, 64)     0         \n",
            " )                                                               \n",
            "                                                                 \n",
            " conv2d_3 (Conv2D)           (None, 112, 112, 128)     73856     \n",
            "                                                                 \n",
            " conv2d_4 (Conv2D)           (None, 112, 112, 128)     147584    \n",
            "                                                                 \n",
            " max_pooling2d_1 (MaxPooling  (None, 56, 56, 128)      0         \n",
            " 2D)                                                             \n",
            "                                                                 \n",
            " conv2d_5 (Conv2D)           (None, 56, 56, 256)       295168    \n",
            "                                                                 \n",
            " conv2d_6 (Conv2D)           (None, 56, 56, 256)       590080    \n",
            "                                                                 \n",
            " conv2d_7 (Conv2D)           (None, 56, 56, 256)       590080    \n",
            "                                                                 \n",
            " conv2d_8 (Conv2D)           (None, 56, 56, 256)       590080    \n",
            "                                                                 \n",
            " max_pooling2d_2 (MaxPooling  (None, 28, 28, 256)      0         \n",
            " 2D)                                                             \n",
            "                                                                 \n",
            " conv2d_9 (Conv2D)           (None, 28, 28, 512)       1180160   \n",
            "                                                                 \n",
            " conv2d_10 (Conv2D)          (None, 28, 28, 512)       2359808   \n",
            "                                                                 \n",
            " conv2d_11 (Conv2D)          (None, 28, 28, 512)       2359808   \n",
            "                                                                 \n",
            " conv2d_12 (Conv2D)          (None, 28, 28, 512)       2359808   \n",
            "                                                                 \n",
            " max_pooling2d_3 (MaxPooling  (None, 14, 14, 512)      0         \n",
            " 2D)                                                             \n",
            "                                                                 \n",
            " conv2d_13 (Conv2D)          (None, 14, 14, 512)       2359808   \n",
            "                                                                 \n",
            " conv2d_14 (Conv2D)          (None, 14, 14, 512)       2359808   \n",
            "                                                                 \n",
            " conv2d_15 (Conv2D)          (None, 14, 14, 512)       2359808   \n",
            "                                                                 \n",
            " conv2d_16 (Conv2D)          (None, 14, 14, 512)       2359808   \n",
            "                                                                 \n",
            " max_pooling2d_4 (MaxPooling  (None, 7, 7, 512)        0         \n",
            " 2D)                                                             \n",
            "                                                                 \n",
            " flatten (Flatten)           (None, 25088)             0         \n",
            "                                                                 \n",
            " dense (Dense)               (None, 4096)              102764544 \n",
            "                                                                 \n",
            " dense_1 (Dense)             (None, 4096)              16781312  \n",
            "                                                                 \n",
            " dense_2 (Dense)             (None, 1000)              4097000   \n",
            "                                                                 \n",
            "=================================================================\n",
            "Total params: 143,667,240\n",
            "Trainable params: 143,667,240\n",
            "Non-trainable params: 0\n",
            "_________________________________________________________________\n"
          ]
        }
      ]
    },
    {
      "cell_type": "code",
      "source": [
        "from tensorflow.keras.applications.vgg19 import VGG19\n",
        "vgg = VGG19()"
      ],
      "metadata": {
        "colab": {
          "base_uri": "https://localhost:8080/"
        },
        "id": "efbLvTZ63Hhe",
        "outputId": "0c4dc2c7-f9b0-4624-f324-d4565adc3709"
      },
      "execution_count": 11,
      "outputs": [
        {
          "output_type": "stream",
          "name": "stdout",
          "text": [
            "Downloading data from https://storage.googleapis.com/tensorflow/keras-applications/vgg19/vgg19_weights_tf_dim_ordering_tf_kernels.h5\n",
            "574717952/574710816 [==============================] - 9s 0us/step\n",
            "574726144/574710816 [==============================] - 9s 0us/step\n"
          ]
        }
      ]
    },
    {
      "cell_type": "code",
      "source": [
        "weights = vgg.get_weights()"
      ],
      "metadata": {
        "id": "MRspOyWy3fph"
      },
      "execution_count": 12,
      "outputs": []
    },
    {
      "cell_type": "code",
      "source": [
        "model.set_weights(weights)"
      ],
      "metadata": {
        "id": "oMHkg1Ac3j_b"
      },
      "execution_count": 13,
      "outputs": []
    },
    {
      "cell_type": "code",
      "source": [
        "from tensorflow.keras.preprocessing import image\n",
        "img = image.load_img(\"123.png\", target_size = (224,224))\n",
        "img_data = image.img_to_array(img)\n",
        "img_data"
      ],
      "metadata": {
        "id": "qFAXVIS73m2a"
      },
      "execution_count": null,
      "outputs": []
    },
    {
      "cell_type": "code",
      "source": [
        "print(\"before shape:\", img_data.shape)\n",
        "import numpy as np\n",
        "img_data = img_data[np.newaxis, ...]\n",
        "print(\"after reshape\", img_data.shape)"
      ],
      "metadata": {
        "colab": {
          "base_uri": "https://localhost:8080/"
        },
        "id": "zg_wPPhR6OsG",
        "outputId": "b626e90c-d0d5-44eb-d090-f568b8c6915b"
      },
      "execution_count": 27,
      "outputs": [
        {
          "output_type": "stream",
          "name": "stdout",
          "text": [
            "before shape: (224, 224, 3)\n",
            "after reshape (1, 224, 224, 3)\n"
          ]
        }
      ]
    },
    {
      "cell_type": "code",
      "source": [
        "pred = model.predict(img_data)\n",
        "from tensorflow.keras.applications.vgg19 import decode_predictions\n",
        "print(decode_predictions(pred, top = 3))"
      ],
      "metadata": {
        "colab": {
          "base_uri": "https://localhost:8080/"
        },
        "id": "A0ot9RS36ab2",
        "outputId": "ccd85acf-3726-4f79-c5d3-9dc18bdca07a"
      },
      "execution_count": 31,
      "outputs": [
        {
          "output_type": "stream",
          "name": "stdout",
          "text": [
            "[[('n02104029', 'kuvasz', 0.5526488), ('n02099712', 'Labrador_retriever', 0.11778518), ('n02099601', 'golden_retriever', 0.11053334)]]\n"
          ]
        }
      ]
    },
    {
      "cell_type": "code",
      "source": [
        ""
      ],
      "metadata": {
        "id": "153fhk9Y6jEB"
      },
      "execution_count": null,
      "outputs": []
    }
  ]
}