{
  "nbformat": 4,
  "nbformat_minor": 0,
  "metadata": {
    "colab": {
      "name": "keras를 이용한 자연어처리.ipynb",
      "provenance": [],
      "authorship_tag": "ABX9TyOObCGL+RJZc+uo593wmciG",
      "include_colab_link": true
    },
    "kernelspec": {
      "name": "python3",
      "display_name": "Python 3"
    },
    "language_info": {
      "name": "python"
    }
  },
  "cells": [
    {
      "cell_type": "markdown",
      "metadata": {
        "id": "view-in-github",
        "colab_type": "text"
      },
      "source": [
        "<a href=\"https://colab.research.google.com/github/Nohyunjin/DeepLearning/blob/main/keras%EB%A5%BC_%EC%9D%B4%EC%9A%A9%ED%95%9C_%EC%9E%90%EC%97%B0%EC%96%B4%EC%B2%98%EB%A6%AC.ipynb\" target=\"_parent\"><img src=\"https://colab.research.google.com/assets/colab-badge.svg\" alt=\"Open In Colab\"/></a>"
      ]
    },
    {
      "cell_type": "code",
      "execution_count": null,
      "metadata": {
        "id": "K-lnk91aKgLk"
      },
      "outputs": [],
      "source": [
        "text = \"John likes to watch movies. Mary likes movies too. Mary also likes to watch football games.\""
      ]
    },
    {
      "cell_type": "code",
      "source": [
        "words = text.replace('.','').split()\n",
        "print(words)"
      ],
      "metadata": {
        "colab": {
          "base_uri": "https://localhost:8080/"
        },
        "id": "lg7IrChgKrvV",
        "outputId": "41a59345-61d2-4a4f-a254-87dd9f2e8ea6"
      },
      "execution_count": null,
      "outputs": [
        {
          "output_type": "stream",
          "name": "stdout",
          "text": [
            "['John', 'likes', 'to', 'watch', 'movies', 'Mary', 'likes', 'movies', 'too', 'Mary', 'also', 'likes', 'to', 'watch', 'football', 'games']\n"
          ]
        }
      ]
    },
    {
      "cell_type": "code",
      "source": [
        "import numpy as np\n",
        "word_count = np.unique(words, return_counts = True)\n",
        "print(word_count)"
      ],
      "metadata": {
        "colab": {
          "base_uri": "https://localhost:8080/"
        },
        "id": "RnV0fxDoKwpz",
        "outputId": "3b8f7415-fa7e-4347-b205-8c75beeeaef6"
      },
      "execution_count": null,
      "outputs": [
        {
          "output_type": "stream",
          "name": "stdout",
          "text": [
            "(array(['John', 'Mary', 'also', 'football', 'games', 'likes', 'movies',\n",
            "       'to', 'too', 'watch'], dtype='<U8'), array([1, 2, 1, 1, 1, 3, 2, 2, 1, 2]))\n"
          ]
        }
      ]
    },
    {
      "cell_type": "code",
      "source": [
        "word_to_cnt = {}\n",
        "for word, cnt in zip(*word_count):\n",
        "    word_to_cnt[word] = cnt\n",
        "print(word_to_cnt)"
      ],
      "metadata": {
        "colab": {
          "base_uri": "https://localhost:8080/"
        },
        "id": "4PVUvcR9K2YF",
        "outputId": "a9b1a31a-1177-41b3-f335-829e12875ca8"
      },
      "execution_count": null,
      "outputs": [
        {
          "output_type": "stream",
          "name": "stdout",
          "text": [
            "{'John': 1, 'Mary': 2, 'also': 1, 'football': 1, 'games': 1, 'likes': 3, 'movies': 2, 'to': 2, 'too': 1, 'watch': 2}\n"
          ]
        }
      ]
    },
    {
      "cell_type": "code",
      "source": [
        "corpus = [\n",
        "          \"John likes to watch movies. Mary likes movies too.\",\n",
        "          \"Mary also likes to watch football games.\"\n",
        "]"
      ],
      "metadata": {
        "id": "JAETY2hBLA0_"
      },
      "execution_count": null,
      "outputs": []
    },
    {
      "cell_type": "code",
      "source": [
        "from sklearn.feature_extraction.text import CountVectorizer\n",
        "vector = CountVectorizer()\n",
        "tdm_array = vector.fit_transform(corpus).toarray()\n",
        "tf_dic = vector.vocabulary_\n",
        "print(tdm_array)\n",
        "print(tf_dic)"
      ],
      "metadata": {
        "colab": {
          "base_uri": "https://localhost:8080/"
        },
        "id": "l88KVSwuLJt3",
        "outputId": "4c2999cf-5cea-4a50-bed2-06876c27f8d4"
      },
      "execution_count": null,
      "outputs": [
        {
          "output_type": "stream",
          "name": "stdout",
          "text": [
            "[[0 0 0 1 2 1 2 1 1 1]\n",
            " [1 1 1 0 1 1 0 1 0 1]]\n",
            "{'john': 3, 'likes': 4, 'to': 7, 'watch': 9, 'movies': 6, 'mary': 5, 'too': 8, 'also': 0, 'football': 1, 'games': 2}\n"
          ]
        }
      ]
    },
    {
      "cell_type": "code",
      "source": [
        "import pandas as pd\n",
        "tf_dic_sorted = dict(sorted(tf_dic.items(),\n",
        "                            key = lambda item: item[1]))\n",
        "tdm = pd.DataFrame(tdm_array, columns = tf_dic_sorted.keys())\n",
        "print(tdm)"
      ],
      "metadata": {
        "colab": {
          "base_uri": "https://localhost:8080/"
        },
        "id": "UZEBUv82LYuG",
        "outputId": "98d24804-4c94-420d-d39a-6efabdda9de6"
      },
      "execution_count": null,
      "outputs": [
        {
          "output_type": "stream",
          "name": "stdout",
          "text": [
            "   also  football  games  john  likes  mary  movies  to  too  watch\n",
            "0     0         0      0     1      2     1       2   1    1      1\n",
            "1     1         1      1     0      1     1       0   1    0      1\n"
          ]
        }
      ]
    },
    {
      "cell_type": "code",
      "source": [
        "from sklearn.feature_extraction.text import TfidfVectorizer\n",
        "pd.set_option('display.max_columns', None)\n",
        "\n",
        "tfidf_vec = TfidfVectorizer()\n",
        "tfidf_array = tfidf_vec.fit_transform(corpus).toarray()\n",
        "tfidf_dic = tfidf_vec.vocabulary_\n",
        "tfidf_dic_sorted = dict(sorted(tfidf_dic.items(),\n",
        "                               key = lambda item: item[1]))\n",
        "tfidf_tdm = pd.DataFrame(tfidf_array, columns = tfidf_dic.keys())\n",
        "print(tfidf_tdm)"
      ],
      "metadata": {
        "colab": {
          "base_uri": "https://localhost:8080/"
        },
        "id": "6xoRx_uwLrgV",
        "outputId": "1bddacb4-c822-464c-e1a1-fc8c8af3aef3"
      },
      "execution_count": null,
      "outputs": [
        {
          "output_type": "stream",
          "name": "stdout",
          "text": [
            "       john     likes        to     watch    movies      mary       too  \\\n",
            "0  0.000000  0.000000  0.000000  0.323699  0.460629  0.230315  0.647398   \n",
            "1  0.446101  0.446101  0.446101  0.000000  0.317404  0.317404  0.000000   \n",
            "\n",
            "       also  football     games  \n",
            "0  0.230315  0.323699  0.230315  \n",
            "1  0.317404  0.000000  0.317404  \n"
          ]
        }
      ]
    },
    {
      "cell_type": "code",
      "source": [
        "corpus = [\n",
        "          \"John likes to watch movies. Mary likes movies too.\",\n",
        "          \"Mary also likes to watch football games.\"\n",
        "]\n",
        "\n",
        "word_list = []\n",
        "for word in corpus:\n",
        "    word_list.append(word.replace('.', '').split())\n",
        "\n",
        "from gensim.models import Word2Vec\n",
        "model = Word2Vec(word_list, sg = 0, size = 100, window = 3, min_count = 1)\n",
        "\n",
        "print(model.wv.most_similar('likes'))\n",
        "print(model.wv.similarity('movies', 'games'))"
      ],
      "metadata": {
        "colab": {
          "base_uri": "https://localhost:8080/"
        },
        "id": "Kw3SblQJMK5n",
        "outputId": "1fdd3676-0999-4b2b-a4b3-a06bccd2d3d7"
      },
      "execution_count": null,
      "outputs": [
        {
          "output_type": "stream",
          "name": "stdout",
          "text": [
            "[('Mary', 0.1812046617269516), ('to', 0.08756060898303986), ('football', 0.05225610360503197), ('also', 0.043933939188718796), ('John', 0.02244408428668976), ('movies', 0.011414241045713425), ('games', -0.00975811667740345), ('watch', -0.04465098679065704), ('too', -0.12835103273391724)]\n",
            "-0.02340034\n"
          ]
        }
      ]
    },
    {
      "cell_type": "code",
      "source": [
        "model = Word2Vec.load('ko.bin')\n",
        "print(model.wv.most_similar('인공지능'))"
      ],
      "metadata": {
        "colab": {
          "base_uri": "https://localhost:8080/"
        },
        "id": "FW3S37dRYk45",
        "outputId": "c634b124-4f69-44ed-88ef-51853fff6a07"
      },
      "execution_count": null,
      "outputs": [
        {
          "output_type": "stream",
          "name": "stdout",
          "text": [
            "[('컴퓨팅', 0.6520194411277771), ('가상현실', 0.6393702030181885), ('심리학', 0.63037109375), ('모델링', 0.625065267086029), ('신경망', 0.6200424432754517), ('로봇', 0.6109743118286133), ('시뮬레이션', 0.6101070642471313), ('지능', 0.6092983484268188), ('기술', 0.6087720990180969), ('기술인', 0.5957075953483582)]\n"
          ]
        }
      ]
    },
    {
      "cell_type": "code",
      "source": [
        ""
      ],
      "metadata": {
        "id": "B2UdPqfZZHCe"
      },
      "execution_count": null,
      "outputs": []
    }
  ]
}