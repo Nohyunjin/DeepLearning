{
  "nbformat": 4,
  "nbformat_minor": 0,
  "metadata": {
    "colab": {
      "name": "음성인식하기.ipynb",
      "provenance": [],
      "machine_shape": "hm",
      "authorship_tag": "ABX9TyNljgkyjKn+4xzRXhsmsm9A",
      "include_colab_link": true
    },
    "kernelspec": {
      "name": "python3",
      "display_name": "Python 3"
    },
    "language_info": {
      "name": "python"
    },
    "accelerator": "GPU"
  },
  "cells": [
    {
      "cell_type": "markdown",
      "metadata": {
        "id": "view-in-github",
        "colab_type": "text"
      },
      "source": [
        "<a href=\"https://colab.research.google.com/github/Nohyunjin/DeepLearning/blob/main/%EC%9D%8C%EC%84%B1%EC%9D%B8%EC%8B%9D%ED%95%98%EA%B8%B0.ipynb\" target=\"_parent\"><img src=\"https://colab.research.google.com/assets/colab-badge.svg\" alt=\"Open In Colab\"/></a>"
      ]
    },
    {
      "cell_type": "code",
      "execution_count": 1,
      "metadata": {
        "id": "IzIgSDWDVpYd"
      },
      "outputs": [],
      "source": [
        "! unzip -qq -d ./audio audio.zip"
      ]
    },
    {
      "cell_type": "code",
      "source": [
        "import os\n",
        "import numpy as np\n",
        "import random\n",
        "from time import time\n",
        "from tqdm import tqdm\n",
        "\n",
        "import librosa\n",
        "import librosa.display\n",
        "\n",
        "import matplotlib.pyplot as plt\n",
        "\n",
        "from sklearn.preprocessing import LabelEncoder\n",
        "from sklearn.model_selection import train_test_split\n",
        "\n",
        "from keras.utils.np_utils import to_categorical\n",
        "from keras.layers import Bidirectional, BatchNormalization, GRU, Dense, Dropout, Conv1D, Input, MaxPooling1D\n",
        "from keras.models import Model\n",
        "from keras.preprocessing.sequence import pad_sequences"
      ],
      "metadata": {
        "id": "nvUh7K42Wirg"
      },
      "execution_count": 19,
      "outputs": []
    },
    {
      "cell_type": "code",
      "source": [
        "MY_SPLIT = 0.8\n",
        "MY_HIDDEN = 128\n",
        "MY_DROP = 0.3\n",
        "MY_BATCH = 128\n",
        "MY_EPOCH = 100\n",
        "MY_PATH = './audio'\n",
        "MY_RATE = 8000"
      ],
      "metadata": {
        "id": "rcYEsZJoXn3M"
      },
      "execution_count": 3,
      "outputs": []
    },
    {
      "cell_type": "code",
      "source": [
        "sound, rate = librosa.load('yes-sample.wav')\n",
        "print(\"샘플 파일 데이터:\", sound)\n",
        "print(\"샘플 데이터 개수:\", len(sound))\n",
        "print(\"샘플링 비율:\", rate)"
      ],
      "metadata": {
        "colab": {
          "base_uri": "https://localhost:8080/"
        },
        "id": "twcoKLhMX2x0",
        "outputId": "87d19036-36be-42a7-de00-c66df041a3b6"
      },
      "execution_count": 25,
      "outputs": [
        {
          "output_type": "stream",
          "name": "stdout",
          "text": [
            "샘플 파일 데이터: [0.00042052 0.00067795 0.0006813  ... 0.00065762 0.00079129 0.00055214]\n",
            "샘플 데이터 개수: 22050\n",
            "샘플링 비율: 22050\n"
          ]
        }
      ]
    },
    {
      "cell_type": "code",
      "source": [
        "labels = [\"go\",\"happy\",\"seven\",\"stop\",\"yes\"]\n",
        "print(labels)\n",
        "encoder = LabelEncoder()\n",
        "encoder.fit(labels)"
      ],
      "metadata": {
        "colab": {
          "base_uri": "https://localhost:8080/"
        },
        "id": "GKcdmh9lYPOz",
        "outputId": "aa9d4099-13e7-4c92-fd2e-c25ffc676d17"
      },
      "execution_count": 46,
      "outputs": [
        {
          "output_type": "stream",
          "name": "stdout",
          "text": [
            "['go', 'happy', 'seven', 'stop', 'yes']\n"
          ]
        },
        {
          "output_type": "execute_result",
          "data": {
            "text/plain": [
              "LabelEncoder()"
            ]
          },
          "metadata": {},
          "execution_count": 46
        }
      ]
    },
    {
      "cell_type": "code",
      "source": [
        "def read_wave():\n",
        "    global all_wave, all_label\n",
        "    all_wave = []\n",
        "    all_label = []\n",
        "    for label in tqdm(labels):\n",
        "        path = MY_PATH + '/' + label\n",
        "        waves = [f for f in os.listdir(path)]\n",
        "        for wav in waves :\n",
        "            file = path + '/' + wav\n",
        "            samples, rate = librosa.load(file, sr = 16000)\n",
        "            samples = librosa.resample(samples, orig_sr = rate, target_sr = MY_RATE)\n",
        "\n",
        "            if len(samples) == MY_RATE :\n",
        "                all_wave.append(samples)\n",
        "                all_label.append(label)\n",
        "    all_label = encoder.transform(all_label)\n",
        "    all_wave = np.array(all_wave).reshape(-1, MY_RATE, 1)\n",
        "    print(\"Resampling 종료\")\n",
        "    print('전체 샘플링 수:', len(all_wave))\n",
        "    return all_wave, all_label\n"
      ],
      "metadata": {
        "id": "uuvyozx-Zyrc"
      },
      "execution_count": 6,
      "outputs": []
    },
    {
      "cell_type": "code",
      "source": [
        "if os.path.exists('arrays.npy'):\n",
        "    with open('arrays.npy', 'rb') as f:\n",
        "        all_wave = np.load(f)\n",
        "        all_label = np.load(f)\n",
        "else :\n",
        "    all_wave, all_label = read_wave()\n",
        "    with open('arrays.npy', 'wb') as f:\n",
        "        np.save(f, all_wave)\n",
        "        np.save(f, all_label)\n",
        "    print('데이터 파일 완성')\n",
        "all_wave.shape"
      ],
      "metadata": {
        "colab": {
          "base_uri": "https://localhost:8080/"
        },
        "id": "uotjIZ9mcNrE",
        "outputId": "c25b39a9-03dd-44cf-f19d-56cd43d5eea4"
      },
      "execution_count": 23,
      "outputs": [
        {
          "output_type": "execute_result",
          "data": {
            "text/plain": [
              "(889, 8000, 1)"
            ]
          },
          "metadata": {},
          "execution_count": 23
        }
      ]
    },
    {
      "cell_type": "code",
      "source": [
        "X_train, X_test, Y_train, Y_test = train_test_split(all_wave, all_label, train_size = MY_SPLIT, shuffle = True)\n",
        "print(X_train.shape, X_test.shape, Y_train.shape, Y_test.shape)"
      ],
      "metadata": {
        "colab": {
          "base_uri": "https://localhost:8080/"
        },
        "id": "E_Y892mNch0h",
        "outputId": "7381cfff-0395-4a8c-b134-3122ca10cf19"
      },
      "execution_count": 8,
      "outputs": [
        {
          "output_type": "stream",
          "name": "stdout",
          "text": [
            "(711, 8000, 1) (178, 8000, 1) (711,) (178,)\n"
          ]
        }
      ]
    },
    {
      "cell_type": "code",
      "source": [
        "inputs = Input(shape = (MY_RATE, 1))\n",
        "x = BatchNormalization()(inputs)\n",
        "\n",
        "# 첫번째 합성곱\n",
        "x = Conv1D(filters = 8, kernel_size = 13, padding = 'valid', strides = 1, activation = 'relu')(x)\n",
        "x = MaxPooling1D(pool_size = 3)(x)\n",
        "x = Dropout(rate = MY_DROP)(x)\n",
        "\n",
        "# 두번째 합성곱\n",
        "x = Conv1D(filters = 16, kernel_size = 11, padding = 'valid', strides = 1, activation = 'relu')(x)\n",
        "x = MaxPooling1D(pool_size = 3)(x)\n",
        "x = Dropout(rate = MY_DROP)(x)\n",
        "\n",
        "# 세번째 합성곱\n",
        "x = Conv1D(filters = 32, kernel_size = 9, padding = 'valid', strides = 1, activation = 'relu')(x)\n",
        "x = MaxPooling1D(pool_size = 3)(x)\n",
        "x = Dropout(rate = MY_DROP)(x)\n",
        "x = BatchNormalization()(x)\n",
        "\n",
        "# 첫번째 GRU 층\n",
        "x = Bidirectional(GRU(units = MY_HIDDEN, return_sequences = True), merge_mode = 'sum')(x)\n",
        "\n",
        "# 두번째 GRU 층\n",
        "x = Bidirectional(GRU(units = MY_HIDDEN, return_sequences = True), merge_mode = 'sum')(x)\n",
        "\n",
        "# 세번째 GRU 층\n",
        "x = Bidirectional(GRU(units = MY_HIDDEN, return_sequences = False), merge_mode = 'sum')(x)\n",
        "\n",
        "# 은닉층\n",
        "x = BatchNormalization()(x)\n",
        "x = Dense(units = 256, activation = 'relu')(x)\n",
        "\n",
        "# 출력층\n",
        "outputs = Dense(units = len(labels), activation = 'softmax')(x)\n",
        "model = Model(inputs = inputs, outputs = outputs)\n",
        "\n",
        "model.summary()"
      ],
      "metadata": {
        "colab": {
          "base_uri": "https://localhost:8080/"
        },
        "id": "9YeHoEgHcv2v",
        "outputId": "b1d3597d-51bb-4bf2-f15c-efc1ca6e13e8"
      },
      "execution_count": 9,
      "outputs": [
        {
          "output_type": "stream",
          "name": "stdout",
          "text": [
            "Model: \"model\"\n",
            "_________________________________________________________________\n",
            " Layer (type)                Output Shape              Param #   \n",
            "=================================================================\n",
            " input_1 (InputLayer)        [(None, 8000, 1)]         0         \n",
            "                                                                 \n",
            " batch_normalization (BatchN  (None, 8000, 1)          4         \n",
            " ormalization)                                                   \n",
            "                                                                 \n",
            " conv1d (Conv1D)             (None, 7988, 8)           112       \n",
            "                                                                 \n",
            " max_pooling1d (MaxPooling1D  (None, 2662, 8)          0         \n",
            " )                                                               \n",
            "                                                                 \n",
            " dropout (Dropout)           (None, 2662, 8)           0         \n",
            "                                                                 \n",
            " conv1d_1 (Conv1D)           (None, 2652, 16)          1424      \n",
            "                                                                 \n",
            " max_pooling1d_1 (MaxPooling  (None, 884, 16)          0         \n",
            " 1D)                                                             \n",
            "                                                                 \n",
            " dropout_1 (Dropout)         (None, 884, 16)           0         \n",
            "                                                                 \n",
            " conv1d_2 (Conv1D)           (None, 876, 32)           4640      \n",
            "                                                                 \n",
            " max_pooling1d_2 (MaxPooling  (None, 292, 32)          0         \n",
            " 1D)                                                             \n",
            "                                                                 \n",
            " dropout_2 (Dropout)         (None, 292, 32)           0         \n",
            "                                                                 \n",
            " batch_normalization_1 (Batc  (None, 292, 32)          128       \n",
            " hNormalization)                                                 \n",
            "                                                                 \n",
            " bidirectional (Bidirectiona  (None, 292, 128)         124416    \n",
            " l)                                                              \n",
            "                                                                 \n",
            " bidirectional_1 (Bidirectio  (None, 292, 128)         198144    \n",
            " nal)                                                            \n",
            "                                                                 \n",
            " bidirectional_2 (Bidirectio  (None, 128)              198144    \n",
            " nal)                                                            \n",
            "                                                                 \n",
            " batch_normalization_2 (Batc  (None, 128)              512       \n",
            " hNormalization)                                                 \n",
            "                                                                 \n",
            " dense (Dense)               (None, 256)               33024     \n",
            "                                                                 \n",
            " dense_1 (Dense)             (None, 5)                 1285      \n",
            "                                                                 \n",
            "=================================================================\n",
            "Total params: 561,833\n",
            "Trainable params: 561,511\n",
            "Non-trainable params: 322\n",
            "_________________________________________________________________\n"
          ]
        }
      ]
    },
    {
      "cell_type": "code",
      "source": [
        "model.compile(loss = 'sparse_categorical_crossentropy', optimizer = 'nadam', metrics = 'acc')"
      ],
      "metadata": {
        "id": "zskKrto4eYm5"
      },
      "execution_count": 10,
      "outputs": []
    },
    {
      "cell_type": "code",
      "source": [
        "if os.path.exists('speech.h5'):\n",
        "    model.load_weight('speech.h5')\n",
        "else :\n",
        "    begin = time()\n",
        "\n",
        "    hist = model.fit(x = X_train, y = Y_train, epochs = MY_EPOCH, batch_size = MY_BATCH, verbose = 1)\n",
        "    end = time()\n",
        "    print(f'총 학습시간 : {(end-begin):.2f}초')\n",
        "    model.save_weights('speech.h5')"
      ],
      "metadata": {
        "colab": {
          "base_uri": "https://localhost:8080/"
        },
        "id": "YT2ghWVIgW8_",
        "outputId": "7f871b4b-7622-405b-c2e2-fdb08ec07b3a"
      },
      "execution_count": 11,
      "outputs": [
        {
          "output_type": "stream",
          "name": "stdout",
          "text": [
            "Epoch 1/100\n",
            "6/6 [==============================] - 23s 166ms/step - loss: 1.7133 - acc: 0.2096\n",
            "Epoch 2/100\n",
            "6/6 [==============================] - 1s 153ms/step - loss: 1.7102 - acc: 0.2068\n",
            "Epoch 3/100\n",
            "6/6 [==============================] - 1s 155ms/step - loss: 1.6358 - acc: 0.2405\n",
            "Epoch 4/100\n",
            "6/6 [==============================] - 1s 155ms/step - loss: 1.6210 - acc: 0.2363\n",
            "Epoch 5/100\n",
            "6/6 [==============================] - 1s 154ms/step - loss: 1.5932 - acc: 0.2546\n",
            "Epoch 6/100\n",
            "6/6 [==============================] - 1s 154ms/step - loss: 1.5718 - acc: 0.2433\n",
            "Epoch 7/100\n",
            "6/6 [==============================] - 1s 153ms/step - loss: 1.5613 - acc: 0.2714\n",
            "Epoch 8/100\n",
            "6/6 [==============================] - 1s 156ms/step - loss: 1.5654 - acc: 0.2827\n",
            "Epoch 9/100\n",
            "6/6 [==============================] - 1s 156ms/step - loss: 1.5529 - acc: 0.2813\n",
            "Epoch 10/100\n",
            "6/6 [==============================] - 1s 154ms/step - loss: 1.5169 - acc: 0.3094\n",
            "Epoch 11/100\n",
            "6/6 [==============================] - 1s 152ms/step - loss: 1.5295 - acc: 0.2940\n",
            "Epoch 12/100\n",
            "6/6 [==============================] - 1s 153ms/step - loss: 1.4955 - acc: 0.3108\n",
            "Epoch 13/100\n",
            "6/6 [==============================] - 1s 154ms/step - loss: 1.4970 - acc: 0.3066\n",
            "Epoch 14/100\n",
            "6/6 [==============================] - 1s 151ms/step - loss: 1.4775 - acc: 0.3390\n",
            "Epoch 15/100\n",
            "6/6 [==============================] - 1s 153ms/step - loss: 1.4882 - acc: 0.3150\n",
            "Epoch 16/100\n",
            "6/6 [==============================] - 1s 157ms/step - loss: 1.4003 - acc: 0.3657\n",
            "Epoch 17/100\n",
            "6/6 [==============================] - 1s 153ms/step - loss: 1.3462 - acc: 0.4079\n",
            "Epoch 18/100\n",
            "6/6 [==============================] - 1s 154ms/step - loss: 1.2651 - acc: 0.4430\n",
            "Epoch 19/100\n",
            "6/6 [==============================] - 1s 151ms/step - loss: 1.1019 - acc: 0.5204\n",
            "Epoch 20/100\n",
            "6/6 [==============================] - 1s 156ms/step - loss: 0.9576 - acc: 0.6203\n",
            "Epoch 21/100\n",
            "6/6 [==============================] - 1s 154ms/step - loss: 0.8850 - acc: 0.6104\n",
            "Epoch 22/100\n",
            "6/6 [==============================] - 1s 152ms/step - loss: 0.7940 - acc: 0.6779\n",
            "Epoch 23/100\n",
            "6/6 [==============================] - 1s 155ms/step - loss: 0.7926 - acc: 0.6878\n",
            "Epoch 24/100\n",
            "6/6 [==============================] - 1s 156ms/step - loss: 0.6163 - acc: 0.7595\n",
            "Epoch 25/100\n",
            "6/6 [==============================] - 1s 155ms/step - loss: 0.5915 - acc: 0.7609\n",
            "Epoch 26/100\n",
            "6/6 [==============================] - 1s 154ms/step - loss: 0.4726 - acc: 0.8270\n",
            "Epoch 27/100\n",
            "6/6 [==============================] - 1s 153ms/step - loss: 0.4970 - acc: 0.8143\n",
            "Epoch 28/100\n",
            "6/6 [==============================] - 1s 155ms/step - loss: 0.4091 - acc: 0.8537\n",
            "Epoch 29/100\n",
            "6/6 [==============================] - 1s 156ms/step - loss: 0.3723 - acc: 0.8636\n",
            "Epoch 30/100\n",
            "6/6 [==============================] - 1s 154ms/step - loss: 0.2902 - acc: 0.8945\n",
            "Epoch 31/100\n",
            "6/6 [==============================] - 1s 152ms/step - loss: 0.3320 - acc: 0.8790\n",
            "Epoch 32/100\n",
            "6/6 [==============================] - 1s 157ms/step - loss: 0.2446 - acc: 0.9184\n",
            "Epoch 33/100\n",
            "6/6 [==============================] - 1s 155ms/step - loss: 0.2419 - acc: 0.9072\n",
            "Epoch 34/100\n",
            "6/6 [==============================] - 1s 154ms/step - loss: 0.2583 - acc: 0.9030\n",
            "Epoch 35/100\n",
            "6/6 [==============================] - 1s 152ms/step - loss: 0.2392 - acc: 0.9226\n",
            "Epoch 36/100\n",
            "6/6 [==============================] - 1s 154ms/step - loss: 0.1962 - acc: 0.9367\n",
            "Epoch 37/100\n",
            "6/6 [==============================] - 1s 157ms/step - loss: 0.1718 - acc: 0.9451\n",
            "Epoch 38/100\n",
            "6/6 [==============================] - 1s 154ms/step - loss: 0.1628 - acc: 0.9437\n",
            "Epoch 39/100\n",
            "6/6 [==============================] - 1s 156ms/step - loss: 0.1523 - acc: 0.9536\n",
            "Epoch 40/100\n",
            "6/6 [==============================] - 1s 156ms/step - loss: 0.1538 - acc: 0.9480\n",
            "Epoch 41/100\n",
            "6/6 [==============================] - 1s 155ms/step - loss: 0.1472 - acc: 0.9437\n",
            "Epoch 42/100\n",
            "6/6 [==============================] - 1s 154ms/step - loss: 0.1561 - acc: 0.9395\n",
            "Epoch 43/100\n",
            "6/6 [==============================] - 1s 155ms/step - loss: 0.1182 - acc: 0.9606\n",
            "Epoch 44/100\n",
            "6/6 [==============================] - 1s 157ms/step - loss: 0.1064 - acc: 0.9634\n",
            "Epoch 45/100\n",
            "6/6 [==============================] - 1s 155ms/step - loss: 0.0964 - acc: 0.9662\n",
            "Epoch 46/100\n",
            "6/6 [==============================] - 1s 156ms/step - loss: 0.1116 - acc: 0.9648\n",
            "Epoch 47/100\n",
            "6/6 [==============================] - 1s 152ms/step - loss: 0.0879 - acc: 0.9705\n",
            "Epoch 48/100\n",
            "6/6 [==============================] - 1s 156ms/step - loss: 0.1054 - acc: 0.9705\n",
            "Epoch 49/100\n",
            "6/6 [==============================] - 1s 154ms/step - loss: 0.0705 - acc: 0.9803\n",
            "Epoch 50/100\n",
            "6/6 [==============================] - 1s 155ms/step - loss: 0.0751 - acc: 0.9789\n",
            "Epoch 51/100\n",
            "6/6 [==============================] - 1s 155ms/step - loss: 0.0761 - acc: 0.9775\n",
            "Epoch 52/100\n",
            "6/6 [==============================] - 1s 155ms/step - loss: 0.0664 - acc: 0.9761\n",
            "Epoch 53/100\n",
            "6/6 [==============================] - 1s 154ms/step - loss: 0.0880 - acc: 0.9677\n",
            "Epoch 54/100\n",
            "6/6 [==============================] - 1s 153ms/step - loss: 0.1203 - acc: 0.9592\n",
            "Epoch 55/100\n",
            "6/6 [==============================] - 1s 152ms/step - loss: 0.0737 - acc: 0.9747\n",
            "Epoch 56/100\n",
            "6/6 [==============================] - 1s 155ms/step - loss: 0.0576 - acc: 0.9845\n",
            "Epoch 57/100\n",
            "6/6 [==============================] - 1s 155ms/step - loss: 0.0527 - acc: 0.9873\n",
            "Epoch 58/100\n",
            "6/6 [==============================] - 1s 156ms/step - loss: 0.0650 - acc: 0.9747\n",
            "Epoch 59/100\n",
            "6/6 [==============================] - 1s 154ms/step - loss: 0.0653 - acc: 0.9817\n",
            "Epoch 60/100\n",
            "6/6 [==============================] - 1s 156ms/step - loss: 0.0567 - acc: 0.9817\n",
            "Epoch 61/100\n",
            "6/6 [==============================] - 1s 156ms/step - loss: 0.0424 - acc: 0.9887\n",
            "Epoch 62/100\n",
            "6/6 [==============================] - 1s 154ms/step - loss: 0.0408 - acc: 0.9831\n",
            "Epoch 63/100\n",
            "6/6 [==============================] - 1s 152ms/step - loss: 0.0740 - acc: 0.9719\n",
            "Epoch 64/100\n",
            "6/6 [==============================] - 1s 157ms/step - loss: 0.1151 - acc: 0.9634\n",
            "Epoch 65/100\n",
            "6/6 [==============================] - 1s 156ms/step - loss: 0.0556 - acc: 0.9775\n",
            "Epoch 66/100\n",
            "6/6 [==============================] - 1s 155ms/step - loss: 0.0521 - acc: 0.9817\n",
            "Epoch 67/100\n",
            "6/6 [==============================] - 1s 157ms/step - loss: 0.0458 - acc: 0.9831\n",
            "Epoch 68/100\n",
            "6/6 [==============================] - 1s 156ms/step - loss: 0.0563 - acc: 0.9817\n",
            "Epoch 69/100\n",
            "6/6 [==============================] - 1s 154ms/step - loss: 0.0418 - acc: 0.9845\n",
            "Epoch 70/100\n",
            "6/6 [==============================] - 1s 151ms/step - loss: 0.0312 - acc: 0.9916\n",
            "Epoch 71/100\n",
            "6/6 [==============================] - 1s 151ms/step - loss: 0.0267 - acc: 0.9916\n",
            "Epoch 72/100\n",
            "6/6 [==============================] - 1s 157ms/step - loss: 0.0454 - acc: 0.9831\n",
            "Epoch 73/100\n",
            "6/6 [==============================] - 1s 156ms/step - loss: 0.0671 - acc: 0.9733\n",
            "Epoch 74/100\n",
            "6/6 [==============================] - 1s 155ms/step - loss: 0.0483 - acc: 0.9831\n",
            "Epoch 75/100\n",
            "6/6 [==============================] - 1s 156ms/step - loss: 0.0352 - acc: 0.9873\n",
            "Epoch 76/100\n",
            "6/6 [==============================] - 1s 155ms/step - loss: 0.0522 - acc: 0.9831\n",
            "Epoch 77/100\n",
            "6/6 [==============================] - 1s 153ms/step - loss: 0.0424 - acc: 0.9887\n",
            "Epoch 78/100\n",
            "6/6 [==============================] - 1s 155ms/step - loss: 0.0445 - acc: 0.9845\n",
            "Epoch 79/100\n",
            "6/6 [==============================] - 1s 156ms/step - loss: 0.0244 - acc: 0.9944\n",
            "Epoch 80/100\n",
            "6/6 [==============================] - 1s 157ms/step - loss: 0.0229 - acc: 0.9944\n",
            "Epoch 81/100\n",
            "6/6 [==============================] - 1s 157ms/step - loss: 0.0259 - acc: 0.9902\n",
            "Epoch 82/100\n",
            "6/6 [==============================] - 1s 151ms/step - loss: 0.0215 - acc: 0.9930\n",
            "Epoch 83/100\n",
            "6/6 [==============================] - 1s 153ms/step - loss: 0.0212 - acc: 0.9916\n",
            "Epoch 84/100\n",
            "6/6 [==============================] - 1s 155ms/step - loss: 0.0313 - acc: 0.9902\n",
            "Epoch 85/100\n",
            "6/6 [==============================] - 1s 154ms/step - loss: 0.0376 - acc: 0.9845\n",
            "Epoch 86/100\n",
            "6/6 [==============================] - 1s 155ms/step - loss: 0.0291 - acc: 0.9916\n",
            "Epoch 87/100\n",
            "6/6 [==============================] - 1s 151ms/step - loss: 0.0193 - acc: 0.9930\n",
            "Epoch 88/100\n",
            "6/6 [==============================] - 1s 157ms/step - loss: 0.0209 - acc: 0.9930\n",
            "Epoch 89/100\n",
            "6/6 [==============================] - 1s 154ms/step - loss: 0.0280 - acc: 0.9902\n",
            "Epoch 90/100\n",
            "6/6 [==============================] - 1s 155ms/step - loss: 0.0598 - acc: 0.9775\n",
            "Epoch 91/100\n",
            "6/6 [==============================] - 1s 154ms/step - loss: 0.0472 - acc: 0.9859\n",
            "Epoch 92/100\n",
            "6/6 [==============================] - 1s 156ms/step - loss: 0.0231 - acc: 0.9930\n",
            "Epoch 93/100\n",
            "6/6 [==============================] - 1s 157ms/step - loss: 0.0158 - acc: 0.9986\n",
            "Epoch 94/100\n",
            "6/6 [==============================] - 1s 153ms/step - loss: 0.0137 - acc: 0.9944\n",
            "Epoch 95/100\n",
            "6/6 [==============================] - 1s 156ms/step - loss: 0.0250 - acc: 0.9902\n",
            "Epoch 96/100\n",
            "6/6 [==============================] - 1s 156ms/step - loss: 0.1721 - acc: 0.9451\n",
            "Epoch 97/100\n",
            "6/6 [==============================] - 1s 154ms/step - loss: 0.0566 - acc: 0.9775\n",
            "Epoch 98/100\n",
            "6/6 [==============================] - 1s 155ms/step - loss: 0.0311 - acc: 0.9902\n",
            "Epoch 99/100\n",
            "6/6 [==============================] - 1s 154ms/step - loss: 0.0465 - acc: 0.9817\n",
            "Epoch 100/100\n",
            "6/6 [==============================] - 1s 156ms/step - loss: 0.0231 - acc: 0.9887\n",
            "총 학습시간 : 116.42초\n"
          ]
        }
      ]
    },
    {
      "cell_type": "code",
      "source": [
        "scores = model.evaluate(x = X_test, y = Y_test, verbose = 1)\n",
        "print(f'평가 데이터의 정확도: {scores[1]:.2f}')"
      ],
      "metadata": {
        "colab": {
          "base_uri": "https://localhost:8080/"
        },
        "id": "UVPPZZqrgwdm",
        "outputId": "663a45c5-75c2-4db6-c50a-799352e46839"
      },
      "execution_count": 13,
      "outputs": [
        {
          "output_type": "stream",
          "name": "stdout",
          "text": [
            "6/6 [==============================] - 0s 41ms/step - loss: 0.9100 - acc: 0.7865\n",
            "평가 데이터의 정확도: 0.79\n"
          ]
        }
      ]
    },
    {
      "cell_type": "code",
      "source": [
        "def audio_to_text(audio):\n",
        "    pred = model.predict(audio.reshape(1, MY_RATE, 1))\n",
        "    index = np.argmax(pred[0])\n",
        "    return labels[index]"
      ],
      "metadata": {
        "id": "Vf18PtUflbW1"
      },
      "execution_count": 47,
      "outputs": []
    },
    {
      "cell_type": "code",
      "source": [
        "rand_dir = random.choice(os.listdir(MY_PATH))\n",
        "print(rand_dir)\n",
        "\n",
        "rand_path = random.choice(os.listdir(MY_PATH + '/' + rand_dir))\n",
        "picked = os.path.join(MY_PATH, rand_dir, rand_path)\n",
        "picked_label = rand_dir\n",
        "print(picked)\n",
        "\n",
        "import IPython\n",
        "IPython.display.Audio(picked)"
      ],
      "metadata": {
        "colab": {
          "base_uri": "https://localhost:8080/",
          "height": 110
        },
        "id": "2fn9dVK-lzbF",
        "outputId": "c5aed262-6679-4758-d485-1f2096e92b2f"
      },
      "execution_count": 79,
      "outputs": [
        {
          "output_type": "stream",
          "name": "stdout",
          "text": [
            "go\n",
            "./audio/go/da584bc0_nohash_2.wav\n"
          ]
        },
        {
          "output_type": "execute_result",
          "data": {
            "text/html": [
              "\n",
              "                <audio controls=\"controls\" >\n",
              "                    <source src=\"data:audio/x-wav;base64,UklGRiR9AABXQVZFZm10IBAAAAABAAEAgD4AAAB9AAACABAAZGF0YQB9AAADAA8AFgAQAAoAEQARAAkACAAMAAgAAAD5/wAABgABAAIABQANABIADAAAAPT/9f/8//n/+P/5//3/+f/s/+r/8//+/wkABQAAAPz//P/9//f/+v8AAAEA/P/5//D/7v/0////BAABAPv/8//2//j/+f/2//L/9v/8//P/7f/z//v////+/wMAAwD6//n/9//4/wYACQADAAQAAQD9//3/AQACAPz/9v/+/wsAEAALAAAA/f/8//v/AQADAAUA/v/0//T/9P/8/wQACQAUABYACQD5//j//P/8/wIADgAQAAcA/f8AAA8AGQAYABQADQALAPz/7v/y//3/CwAPABUAGQAKAP//BAAPABYAFAAMAAMA+//w//L/+/8FAA4ADQAMAAYA///9////DwAVAAUA9//0/+//6f/v//z/BwAFAP//+v/7//z//v8EAAIA/P/w/+v/6//y/wAABwANAA4ACQD9//T/8v/v//L/9f8AAP3/8P/w//T/+P///wgABwD///X/8P/u/+3/8//3//j////8//D/7f/4/wgADgAJAAMABAD9//H/9f8DAAkABwACAP//+v/5/wAACAAQABMACQACAAEA///9////CwALAAcABwAMAAoABQAJAAgABgD9//j/+f/7/wQABwAOABQADwAJAAAAAQADAAUABQACAAEA9P/w//7/CAAHAAQABwAFAPv/+P/7/wIABQABAP7//P/5////BAAKABAACwD///z/AAD+//v/9P/3//3/9f/2//3/AwAJAAgACwAGAP//9//w//P/9//5//P/9f/+/wEAAAAAAAIAAAD7//n/+P/0//X/AQAFAAYABAABAAQA///2//n/BgATAAkA+//5//j/+//4//3/BgAEAPv/+P/8/wIAAgAJAAgABwD8/+z/5//r/wEABgAHAAUAAAD8//j/AQAHAAcABQAEAP//+P/z//n/BQAIAAgABQAAAP7/+/8BAAsADAALAAUAAwAAAP7/AAD//woAFAAOAAQAAwACAP//CgARAAgAAgADAAUABQAFAAoAFAAeABQAAQD3//X/+/8FABAAFgASAAYA+v/+/w0AEQAPAA4ABQD///b/6v/x/wUADgAJAP7/8f/t//D/+/8HAAwABwD7/+v/3//Z/+f/+f8CAAcABQD8/+3/5P/u//7/BQAAAAAA/f/3//P/9f8CAAsADgADAPf/8v/u/+7/9P8AAAMAAwD8//X/+P8DAAwAFAAPAAIA+P/6//z//f///wIABwD///j/+v8FAAwADAAGAAIA/v/8//n/+//9//3/AQD8//b/9P/2//3///8CAAIAAwADAAAAAwAFAAQABgAOAAkABQABAAIACgASABQAEgAOAAYAAgADAAMABwANABAACAACAAMAAwAOABcAEQAHAP//+//5//z/BAAKAAoABwAEAPv/+/8BAAkAFAAUAAwA/v/7//z//f8JABQACwD9/+//8//2//j/AAAGAA0ABQD8//T/8//4///////7//3//P/y//L//P8GAAcA///8//v/9v/4/wEABAAFAAAA/P/2//L/+f/8/wAA/P/z//T/8//4//3/+//5//n/9v/w//T/+P/+/wsAEAAIAP7/+v/4//n/+v///wAAAgAJAAQA/v/6//r//f/9/wEA/////wEAAwACAP7/AgAJAAgA/f/1//z/AQACAAAABQAKAAgABQAEAAYAAwADAAwAFAARAAYA//8CAAQABQAGAAoAFQAXABQABQACAAoAEAAKAAAABAALAA8ACwAEAAQAAwABAAcACwAMAAoABgAAAPr/+/8DAAsAFgAVAA8AAgD6////BAAJAAYAAwD8//L/8v/1//z///////z/+f/8//f/+f/4//n/+f/1//P/8v/2//X/9v/7/wEABAD4//P/9f/2//f//v8DAAQA/f/z/+//7//1////AgD8//r/9P/x//T/+P/9//z/+P/y//P/9////wYACAALAAUA/////wIABQABAP7/AAADAAcABAD8/wAABgAJAAYAAAABAAYABgAGAAQAAAAFAAoABgAHAAsACAADAAEABAAGAAkABgAFAAoACwAPAA0ACQAGAAkADwANAAQAAwAGAAkADQAKAAoACAAJAAYAAgADAAoAEAALAAUAAgADAAAAAQALAAwACQAFAAMAAQABAP7/+P/8/wUACwD///H/7f/7/wYABgAIAAAA+//5//n/9//3/wQACgAEAPb/7P/v//b/9f/8/wAA/v/5//P/8P/x//D/8P/r/+v/7//w//H/8f/5/wEAAQD2//T/+P/9////+//+//3//f/3//P/8//7/wUACQAHAP///f/+/wIABAADAP3/AAAGAAEA+f/1////CQAJAAkABAD9////AQAFAAIAAQAIAA0ACAABAAEABAAKAAwACQAGAAUABwAIAAMAAQAHAA8ADQAFAP////8BAAQABAAJAAoACQAHAAMA/v8CAAwADgAMAAkABAAFAAQAAAD+////BwALAAkABAACAAQAAQACAAQAAgD9//b/9P/5//z/+//7//f/+P/5//3/+f/z//D/8P/1//X/9//2//P/8v/w//L/8f/z//L/8//y//L/9//2//n//f8DAAIA+v/2//H/8v/3//j/9//0//f/+//3//D/+P/+//7//f/2//P/7//w//D/9//+/wIAAwADAAMA/P8AAAsACgAGAAsABgABAAMACQARABcAEgATABAADAAGAAYACwAKAAwABwAFAAMABQAGAAoACgAEAAMAAgD8//r//v8EAAYAAgD9//7/AAAGAAUAAwAMABAAEgAOAAMA+//9/wIAAwAGAAYACgAJAAEA9//5/wIABAAGAAIA9//0//X/+/8CAAQABQD9//X/9v/5//v/AgAFAAIA+//3//f/+P8BAAMAAwABAP3/+v/6//n/+f8AAAIA/v/6//T/+P/6//7//P/6//v/+//3//D/8f/1//r/+f/4//j//f8DAAAA+P/y//L/9v/7/wEAAQD3/+v/6f/t//H/7f/r//D/9P/2//H/8v/4//r/+//6//f/8v/1//v/+f/5/wEABQAMABAADwATABQAFAAOAA4ADQANABMAGQAaABcAGwAaABkAFAAUABIAEgASABMAEwAMAA4ADwAQABAADQALAA0AEAAMAAYABwAFAP///////wYAEQARAA8ACQAEAAsADQANAAkAAwAAAPr//P/2//r/AAD+////+v/7/wAA/f/+//r/9v/2//P/7v/u//D/+f/6//b/9//7/wEAAwAAAAAA/P/z/+7/9P/5//3/+v/1//j/+//8//j///8CAP///f/0//P/9v/7//r/+f/0//P/9//4//b/+v8BAP7/9f/y/+7/8v/+/wEA//8BAAIAAwAGAAcABQABAP7///8AAAAAAQACAP3//P8AAAUABwAHAAYAAAD//wMABgAGAAcACAAAAP7/AQAHAAwAEAAXABsAFgAMAAkACwAPABEADwALAAkADAATABMAEgAUABoAHQAQAAcAAwAFAAsADwANAAMA//8BAAgACgAKAAUABQD9//3///8BAAkADQAOAAsABgABAAQADAAMAAgACQAJAAcAAwABAAAA+/8AAAAA9//0//T/+f/4//n/+P/z/+7/6//v//H/8P/t/+r/7f/x//H/8//0//H/7v/t/+n/7v/4//X/7f/t//T/8v/t/+3/7v/v/+z/6P/p/+v/8v/0/+3/6v/o/+n/6//y//3///8AAPj/9P/5////CAAPAA4ADgAPAAkADAASABgAGAAUABAAFAAYABkAGQAUAAwABgACAAQACgATABgAEwAIAAUAAgAEAAcACAAGAAEAAQD+//3/BQASABcAFQAUAA4ACwAQABAADQAMAAkABQAKAA0ADAAIAAUABwAFAAMAAAACAAUAAAD6//f//P/+//3//f/+/wIAAQAAAP//AQACAP///P/7//7//v8AAAIABQADAPn//P8EAAkACgACAPz/8//w/+//7P/u//f//P/6//j/8v/v//P/9v/2//f/8f/p/+z/7//y//X/8//1//f/+P/3//f/+P/5//n/7//s/+z/7f/w//L/+v/6//L/7P/n/+f/8P/6//b/7//t/+z/8P/2//j///8CAAEAAAAAAAcACgASABgAFAAPAA4AEAAPABQAGQAVABYAGwAfABkAEwAVABkAFQAOAAkACAAHAAwADQAKAAsADAARABIAEAAMABIAGQAXABUAGAATABEADgAQABAAFgAcAB0AFQALAAsAAwADAAgABwD///j/+//8//j/9P/4//3/+v/z/+r/5//q/+v/6//p/+r/7P/w//L/8P/z//7/AQD9//n/+P/1//L/9f/6//n/+v/7//r/9//y//X//P/6//X/8P/p/+f/7f/u/+v/6P/s//H/7f/r/+n/6P/x//z/AQD6/+//7v/z//n/AgAJAAcABwADAPn/+v8CABEAFwAQAAkAAwAEAAMACQAOABEAFQASAAwAAgD+/wYADwAPAAgAAwACAAAA/v8KABEADAAIAAsACgAEAAQADAAVABgAGQAWAAgABwAPABAAEwAWABcADgAGAAMACAAOABIADAD///f/+/8GAAgABAAHAAsADQAFAP//+//9/wEABAAGAAEA/v///wEAAQADAAYABAD6//b//P8AAAAA/f/6//L/7P/t/+7/8P/v/+3/7P/x//D/7P/u//T/9f/z/+z/5v/s//H/+P/7//X/8P/y//j/+//5//b/9v/5//7/AAD7//f/9P/4//b/7//t/+7/8//y/+z/6v/u//T/8v/v/+3/6//y//b/8//y//H/+P/9//n/9f/0//7/AQAEAAkABwAEAAQAAAD+/wMACQASABYADAAHAAcADgAQABEAEQANAAcAAQAGABAADwASABkAGAATAA0ADgAUABgAHQAcABQAEQAQAA4AEAAXACAAIQAVAAwABQAJAA8AEgARABAADgADAAAA/v/+/wgADQAPAAsA///0//D/+/8EAAUAAQD2/+3/7v/z//v/BAAHAAUA/P/u/+f/5P/p//D/9f/5//T/6P/d/+H/6P/y//f/8f/k/9j/3P/l/+3/7P/n/+j/5v/n/+z/7v/w//H/+v/2/+z/6//v//T/9v/3//X/8f/w//X/+v8EAAgAAgDv//H/+P/4/wAABAAHAAUAAAD8////CAARAAsACAAJAAYACwANAA4ADAASABQACgAIABEAGwAbAA4ABQAGAA0AEQAYABwAGgATAAgAAgD+/wMADQARAA8ACQAFAAIACAATABgAGwAUAAwABQAFAAkADwAZABwAGgARAAkABwAGAAoACQAIAAYABgAGAP//+P/0//3////5//f/+f/1/+z/8P/1//j/AAABAP7/+f/5//b/9v/6//X/+/8DAAAAAAD+//z/8//0//f/7P/7//H/+f/+//P/9v/z/+7/5//z//z/9f/t/+L/4v/f/+X/6v/2//z/AAD2/+n/7f/u//T/9v/5//z//f/3//D/7f/4////CAAKAAIAAAD6//r/8//1////AAD//wIA//8CAP3//f/7//7/AgAKAA8ACQAMAA0AEAALAAMACQAGAAcACwAUACAAGQAVABMADQALAAYACAAVABwAGAAQAAoABwAIABEAHgAlAB8AEgADAAEAAQAAAA4AGAAYABkAEAACAPv//P/7//v//v8CAAsAAwACAAMAAwD///f/8v/m/+7/7//+/wEA9//6//X///8AAAAAAgD4//T/7P/p//L//f8HAAgAAwD4//H/5//j/+//8//z//P/8v/r/+b/7//1//r/+P/w/+7/7f/u//H/7//q//L/+//3//D/+//7/wcAAQDx//r//v/9//f//f/7/wwAGAAFAAwACgAGAPr/6P/7/+//+P8GAPn/8P/W//f/DgAoACkAGAD5/7r/t//9/0kAgwB0ADsAGAC7/0n/If+n/0cAmACoAFsAsf/o/s7+eP9+AFQBsAFUAVQAav85/5b//P+xAM4BIAK0ALv+Jv7H/g7/E/9SADwCcgJAACT+aP2C/Rv+9P9VA5UEugPTAIf+Dv6C/sP/1P9ZAaACDAJfARQB6v8H+b70iPhQANgGkAdfCY8DK/u39K72zP9CBa0IGgeyBaUBhvtp91H5Sv/ZAqgEkwZhBqH+dfU69Vj7awJhBLsGHAdhAcj7affi+2j/iQIbBAgDyAKH/k/8ivqf+10AWwLdBeQEQQQ3/4L51/gk+hQAzAP2ByUHPAGR/Ln5w/rE/EEBlwafBBgBeP0e/jv74vhm/JYCOwcvBAEE6gKdAVP7jvrmAG0HbQd9AjkDUQKd/fb4Jfsm/7X8k/l8+3X+K/7q+PP7/gO+BRACEwHWB/QGFgIjAfsEdAZHAYX/YwA/AkwCzgDL/bv96vxv+0D7Nfwt/qj89/0T/bX/uv4D/68Crv58/Dn+h/+q/s78BgIDBP0Cgf+nAzcGW/+WAFcDxQlIA6L+qwL+++D9YPYf/EwBTP1x/er8dwSsBNcABflH+Rv0u/L79EYDyA6WC+oFmQM/BbkBCv2EAnEHWQQhA9D+zgfFBZYD7gCU/TcAZvvUAOT/o/6X+Zn3I/qf92346/8pBAUHOwOh/RUBcQEx/0b8rPsWAMcB4fyU/70CRAiTBssCfAZM/Xr8z/6aA40BGf12/8f+BflI87T7YAWvBRv+P/yQ/D71N/O69zgC5Qq4CbkI0QpiB+UAAfwHA3cFWwH9/uT/KQa8/T365fsaApX+3vtnAUkFkf9K+s/8q/s599Tx3vs3Ar8C+f2HAfoFuQFE/UMAdAc8CNQF+QH+A4oB+v/5/90DKAOi/O77ffw/+6r64vziBPcF7P47+yn5p/+2/TAC9AVfBqUAj/eK9zb4i/y1AAkLIA0YCz0J9QgNCDID0gDbBLsCkgIsBFEGmwel/XP5jPdp+t37PP4sA08G3APj+PL1Ofi09872BvlpA0UH+f3d90j4Cvqq9Qb1fP90CRYK7wa6BJ8AYvwF9Uz7RgTWBfAEQgHpAEb9XPg9+l8ARAWKBKIEogitBt7+6PnD+y79qf5v/b0AvAPaAU8Ayv2R/cn5L/m6/UoA4AFcAqMCnQKw/r35bvqx/VcAlgLhBPoFtQLWACgDKwMyBIMD8wRiCH8FdgFk/rL+jv4Q/GH6xPsH/rj+ivzE/ZcAhgGS/xT+m/9U/iX/xwAkArkFUAUPBvMFFwI2/s/6gPtW/2oFCwjrBa8BAv2O+jT50vi1+UL5//fY9XD4kffH9z30ru888TXxePCO7TXoluFN26nYYeFT9OAEpwl7BgABGAAJAPMFqw5CGuAksym4K5opfiR8ISEijCPlIbAdFxm8FR0V1BBZCeYCE/8x/KD5off/92H7ivzk+rj5lvVo8v3zV/iY/koDrwa7B7gEqQGDAR0FjgaeA0kAdwDb/0/92vic82vwFe7g7FXufPEc8a7u4uyp60fszO8H89j5Zv8iBUkIIweKAtX95P6+AcoD5QSxBZQGMgZXAVX9w/mT9+r4j/rL+pH5UvU59ZjzL/Bf8GTy0vcu+9j8vgJyB74IgwxlDzMTtxaYF28YmBUjEzIZdyDgJEYfUhRKDSkGfgO/BXoGhwSf+jzqrduM0YHP2NGyz+TEtLPEqxe6kdN56Sz07vcN/4UFlAZ5CA0OqhsdLwxBI0drP2MyOi/3MbMv1iVAGF0OMgXf+oD2Z/hT+1r8afaa6ynfo9cp3FTndPUQA04MMRQNFo4TXhLNEsMWRBxOH1Ahbh4pGLoOlgLQ+ZTzYe+L7YPovuAt2sfXg92V5trsJO/37QLwl/R0/FEEcwkBErMe0yjUJ84ZCQyNCfsNWxDhClUBQvmX9kf20/EE6cXfb9tw2WLX7tTg1hjdRuTa57PnAOem66n2UgTxDTYTwRbYGsohKSj4J/kjjB6XGyoZuBQoEvUR/BGHDoYEu/tf8qDqeeex4bnaz9LTyibLTskNwyy7FbVUu27MW+Oa/J0PYh2aKOYujzLSMcwwLTdBPyNGzkdUQV45VS+YI7YZqQw4/7LwAuK71zvVttsJ6PHw/PC+7gruK/TG/QYG9g68GDMkNTHpNiY2hy8RKRMlSx8FFlkLjAGG+rHxBuNo0grELr/lwmDGDshmxonI6dOq44Tzwv3sBLENuBREGtoauxsOIyYvWzgCN7wp5Rr7EN0IMAGz9kLtcuhV54zp3eiM4UnaIdYG14TY89cy2V3equQr603wHfn+BigWGyIsJp0jiiKxIcUi+SLgImwhVB2iE9EHP/3i9u71i/hN+V32+uzg5NffTd6f30fejN0+3cbba9vf2frVOtLI07/inPqJEgIjWypRMMwzfDRpMpktGClsJ34lKB/nE/0JJAS/AygBmvlw7fPeNtQf0JPVGeLn8L8BehC4G1wkkyv1MR823jX1MjAyHjNyM8QvyyhuImUaJhEKBTHzueBBzdq8QbQesEKynLuIx6jT8NdO2brecOli+5AM3hrYJh0r3C1VL78vaC+NKw4ltRzSEkkI4v1g9MXrzucR5IfghNsC1y3Ze9zV31nizuIu5WHmCeaV51zrHfLD+WoAOgdTEBQaRSUMKcYlmx8cGNgWGhUdD2kI/QAV/VP7Pfk4+C737fiN+xn7yvqB91n2EviS9wz2YvKg8IbwPvAF7bHibdpw11HhGfWVBysW8RvUH5MjXiMjJBkhOiB4IoEeBRcODHsBIf6W/VD+tP6I+/b4o/I36+Xnt+nB9hQFphAFG+8i9yzbNd85Cji1NFgvUimmIF4SXQU6+yn3MfXh7oPjDtQfxuq6hbDkrT6wK7xAzXDdkOoa9T8CPREHImovKTa7OJs0kSyOIsEYUhMgEGEOeAj3/bvzPOdQ3tvYWtSf1K7Wg9t94ODkFekZ7vH2Vv+mBKIFdgN//kf+3ACeA/sI5QwqFCUeGyPPJEYd+hXRDosGvANA+Bvv9ugz5ozrG+9i8mL2/PurBJUIPAyWCzAKUQ1yEFcTgxH5Cf8At/ml8xjtVOXt2yvQccgtytrVVelY+mIGzRD4GGAgryItHzoboxf2F6sYZBaJE5gQ4w+REVMQIAwEB0UApPxG+AH18PdA/gUKexQDHDgjuyaXKR8ohSOvHasWMw8/Bhr5+e1H58zjKuIL3rTXl9NPz0TKycVUw83IcNcg6wf8bghjEhweUyvHNJE3IjO6LS0hhBKdAhr0tO9F8Wz0sPWO8bjrw+dq5HLhAd3E28bbG96d4h3nw+7N+jMEPwm/CYQEygIuApYAdACw/isC7wctD0sVThTGFUUVNRPzEOgEhPmf8O7skvCM9eb7/AGKDA4Xox+YIz4fYhlEEfgNAgoKB5oCZftb9gvvkOeI4zvfZNz605LI7sDrw4/S5eQc9REBmg1QHOkrrTKIMH8s6imbK5kpSSG1GLEVYBkmG9wVXA6fBzUDyPwO78vh6N174pLwqvuDATUIlA8yGfEevB47HfYYVRbGDVv/yvLU6TDqmPB88xDxWuoG5Kfgot9G38/fAOQW6qDvC/Ye/XoHaxRhH9YjeCBYGCkNUwL691rwje6W8l/4kvyj/FX7cfrR++D74/eK8KPpduY56QjtAPFv9fL6MALRBuUGRATWABUBrwA+/oX7QPnq/GUF9AmJDl8QahN9GHEUkwzoAoz7Lf3m/XoA3gMXCeEUOB0+IXcfVBhLFB4NLAP++CruW+iJ5ObedtuO2WbbFN6R3HHXgNGWz9DVo+Bl79b9DQz8HPUr3Db6Ow87STjBNPctviSJGkARIA1RC9MJawjPBlkGYgPO+4LwDOeR5bLqivGR9Vv38voIA+AN/BZjH/EiBCIoGxUOEQEi9wPzmfJb8MPr8ubB5MXl1uUr467gNt/44Yrm2umV74X2wQFDDscXch0dHqYb/BWxDMEC7/sh+8v98QDIAH3/D/9JAGUBiP9x+bvyZuuR5RzhbODJ5XDvlfja/jcArQKhBRcKnQsQCFYBHfxe+9r+5gOCCfkQRhl2H0Eidx50GGYShQvJBHH9n/Zo9b35zAEZCZsMiwy+CsMIUQQk/c32ne4j6Kvi5txR27ncGOFn5KPmOObR5WTosunV7FvytvrNBzgVwB8LJj4qqS2GL0QuXCfRHbkVXg8ECh4E6P0B/bgAeAdEC5UHvP+L97HyVvIQ8t3wGPCv8iX5ogK+DI4V2BvsHkAb9hJ6B3r6ffF97RjqN+kR6OvntutE7o/vNvC1777wgvC17z/u6+1V8zf7xgSADP0PoRNTFccUtRJiDjgLAgvhCQIHBgK4/lb/QwK+AhH9OfRs6+vk2eJN4THiIuWk6d3u2fMy+UIAlgjJEMoS3BGfDfgKMQw1DqYQOhWIF1kc8xwXHZQalRXcD+sIPQCC+drwmO7L78jyhvnP/bEB7ATMA7QCYv+b+YfzB+xw5o3hK97r3Xne6OEP5IflRuqi7uP0nfp1/RACSwhBEEEZSx63IEQhIyL7Ik8hTh57GVUV8xC2C6oIIQeiBpgF0P5k95fwjO377ovv++2w7onxi/rZBKMMIxO6FywcfBzXF5IPgAW6/5D8e/iM9PbthuqJ6mDqH+qU6SPqhew97fbre+qE68Hw4Pfy/ZICVgaUC3ERZRT+FeAVphcXGZAX0BDUCPYBl/9o/dP4tvBx6cPkqOQw5NXjAuSH5t3raPGG9eX5Pv8MCMcO8BEnEaAO7g7pEfwRjBMqE4sUahhmGPYWaRMZD9YM4QU//vL06O2F8OPyGPf9+kX7EQLpBhsJhwmWBKoAqPu69J3tb+T731TeXdx03avZOtpi3wnk3Ovz8aj26v/9B8AQ9RfXHPAhCiUvJ/slMSNVIWEecRssFscPwwy3CvcILwTq+5P11fGJ8LrwL+787Nnuc/Nb/AIFZA3oE80Y5Bt5GnEYPRPYC7UGMP6k+Mz10vA98KntVuo26d3mTeaM5hrma+aX5pPppO2L8uT4X/5xBSENahHOFqIZERzcHnMeBhxnFx8QtgnRAvf7ifNw6/rkluEM4SvhieG84mLlu+kD7+P06PowArMIogyoDfALNgwUD78TZhVBFTQTGxJCFGsUkhNvEZQOHQ27B+P/Lvhe9JH4ff2fAuoDFQP+BLMFSwdNByADbQAR+nXx5+gy3lva9tZN1QXUItEP1JPa1eIt7qn1kQCDCqwT9hudHwsjwyRnJZ8miyTJIgwggRx9GVAUgxDlDfALFAkdAu753fKI7g7tDexy6gfqKexZ8R/6OgNNDA8U7RiIGtcZNBc0FdIQ6QoLA1z7QPZv8RnulOnJ5XbkRuQk5TTljeRW5vfoXe0s8jb3kvyFAaUGsAs/ECEWnBm+Hd0e2h6hHcwYEROhC2YDc/w29BPt3uaK4Wrg9N+34VLk/uUP6rbtFfMQ+Y39kQHSA8sEQgdECLsNIxLZE6kWUxSJFbYWQxVyFkYTUxJFEH0LYwnRAt0C3wREBqgKSQe3BTQEpgATAfj9LfpQ933uLOni38TYoNWp0evQXM4Yyp3MmNHG3ZDrJvaFAsoLSBa3IAsmOSrEKb0otScDJWchYx6fG4QaExjVFEATMRHODsYHuf1e9B7tEeuI6YjnQOeM6YDwRfrDAhQLZhH5F5wbNRzJGJkT2w9vCzQG5/5Q97PyWPDd7ZDpBuWk4jPkkuZL6DHpzuqU7gzzBvia+1AARAWdCcYM7Q15EKIV4xtDH1AeeRrPFZUQGgs3A/X7VvRu7RToWONA4V7iLOTP56XqAe6Z8TH0Pvdv+cH6i/wz/Qn/kgOdBycN+hADFOAYGRylHe4cAhkCFVgTnw8ID/IJjAnICSIMBw87DNEJagfvA3YBDfqN8mDt9Oeb5STgp9to2RfYi9iy1KHPL82fz5DY/eHi6u3zwv7lDI4Y4iAxJg0ogyvGKlAnTCMDHxEfoBzwGZgWFBX3FuQVIRK1CjQCwPxK92bxserh5QPlA+kJ7zH1bfy8A8AKNRCtEXIPAQ2XCjoIOgSO/gb44/Sl9AX18PQm8pjwtfKU9BP23vPe8uvzMfdl+kP6Mft//eIAKQbOBz8JCg03EcgX3xfnFZsRcw4ADaII0AEd+xn0B/II79rrpOrf6L3rBO4I72/wH/Di8nb1dvUQ9v309vZi/GP/2gNKBjAKrBBpFOIXuxhVGKkYhhYjFQ0UjxK0FJMUFxTNE6QQ0w/iDIMI1gQR/mP5j/Ng7lzrmecO5XvhLtzh2YvVZtFezWXJqcw10k3bWuQu7ZT5PwfnE6EdJiFLJEkmlyaLJbohWiBpIMcguSFiIZQiMCN6Ii0esxbPDdwFhv4Q9ibueujs5mLqKe5d8lb2N/rp/oAAPQBP/jD8dPty+Vj3n/SE8RrzS/Wz+CH72/pY/E/90/69/4f//f6r/lr+c/0D/O77Cv6kAK4CnQIeBCIHeAtPDjkPbQ2EC8cK5Ah6BmQBd/0W+yT5jvav86fxlPK+84fztvLm8FTyTPPH8/ny9/DG8dz0yfgO/n4A5QRZCRINvBKJE48VSRa+FAMVnBI4EhIUlBN2FtoUHxSEEwkQ5w7wCLMDdv9f+ef24vGb7Enps+Ig4M7apNXv0KLKoMmnyrTPSNcF3njodvMHAJUL1hJBGAgb2B13H5If1h8jIIUiTiRYJuMoUCsrLe8q8iXqHeYUYg1nBG78C/Qt7lTtHu578W3z/PWG+GT5YPpA+Lv1PvTz8U7ynfF28Ynxe/FV9Iv2//gg+tv5DfyM/Jr9HP43/jkAHwFKAfwAewCHAu0DDgX3BIsEgwYyCRMMZQ2jDBcLvwmDCLoGLAND/6H7Xvgp9QPygfAV8YXy6vKb8srxxfJc9F/1rPRk8+vyWPU2+Wr9xAC2BJ4KcxAVFaoV+xSMFcYVHRRAEO4MsA0vEPgSbBKHEW0SpBHjEUUNpAfAAXj69vMw67PjQd9Y2n3XzNEfzzbR8tNu2Y7bgd+J5hPuRveM/NkBbwiTDZET1RTeFucb9B9fJQcmCycSKa0ptSrzJisizxwKFosRUAsuBnQCt/1C/Dz6tPoO+yn6Y/mg9uL0L/M78Uzwfe+O8GHyH/Rx9fT10fZE9fbyAfAh7aLsS+sm7bfv4PPr+S//mAQ8CCwJvgqWCZIJKQlcB3gHsAbhCN0MPxCOE9YUfBRiEi0OFQn/Akv8W/Xm703sj+u27G7uq/A78tbygvQn87fxr+5A7LTsdu2V79LzP/lrA3gMrROUGrscdiDPILsdwhvAFesS8BJYEaUUPhbYF28aqBfSFs0RSApIA+729e334xHadtUVz8nLn8rSyC/OyNJc2E3dTd/B5HHq1fDO9vP5Ff+zBVcMeBMNGB0evSTCKvktei7SLY4s3CovJnAgjRpiFWMS5g6PCyQI7wTTBIsDPwEw/j35AfdU9NPxl++x7fbtNPDi8vP07fTT9Pf0EfWw8rztiOjG5Qzm9+ZD6i3uE/UB/S8DqAgMDJMN+w1KCnUGVgMMAy0F5wavCa4MFhFcFu4YMBmQFEIOkQchARf7B/T57njs2Oz+7y7yQvVr95/4uflf9kXyeOzE6LPp++oF7UDvlPS4/4wK3xJWF7kZbhy/HIcZ/BTjEaoRLBPnE98UeRheHRgjiSMBH6UYqA7oBeH5pOwr4STUKssrxSzDucgnzVTTedfg2pLhbuXv6DnqJur17RDw0/S8/MEGhhSGHuglgS1iM784STgBMyctjSYtIr4eJRuWGSQZoRl6GgEZsRXGEH8JNwEQ+H/uReea4WTfbOA24s/m6Opl79bzCvT28jju5+cd5HLfXN1Q3ajf7eip84L+nQdnDbYTXherF8YTxgz/B50FrwWSB1YKzg8eFrkaYh06HN4Y5RIcCnsB9vgo8ujtMOxZ7uTyQvfN+X36YPqC+IrzievD46zfHt9/4Ebjyeim8jr/Ngq+EVgWdxgAGs8YpxQvEdUOOxCzE5cWnRvEIcUoni3mLHspqSKNGcAMaf1G8K7jqdcDzUnG1sc3zWPRz9NN1vnbu+GH40DhbN414BLkKecc6orw+f21DeIaGyNZKRAxozaGN6MyrypFJXEiBiGnHyceah+iIgwlBySXHiYXqA7YBFL5Eu1n47jdu9zD3l7iBedP67HvBfL78GnsN+TU3DvXBtQL013Uottj5571lwGhCcAQgxU/F4sUWg1kBjIC4QCWAdcEsAqnE2Id0yPBJi4lISD8GPYOLgTv+fXxK+6s7vTyJvh9/VgBDAPPAv38wvPW6Yzhp91O2wnaA93S5UDzTgFuCv4PIxXqFy8XSRGjCO4DMgSjBxIM/hC0GTQkGC6kMWcuASmrHhkStf/c6vDbUdFoz0zQiNGw1rHdbOju8DXzqPDm6lfmPOFo21rYbdmb4WfuX/wOC54YdCRILYoxCTBYKloiOhtsF+8UoRUEGRIflCjWL3YzLzL/K00kwRg1Cn36FOyW5KnhEeLI5AHpBfDV9Zf3svNT6xfivdiaz/bGyMFowxvMotgS5SjxSv3aB1QOgQ5fCi4GqgNbAisBtAGcBg0QDRthI5gnXinhKPokhh5AFcwLywRE/1/9LP6oAMUERwdfB40ERf7v9AzsTuJJ2hXV5dDW0/HaCOWO8Zn6SwPzCTUMLAw9B98B3P6x/bIAwQW9DeIZriXQLro0djSLMOEoqhe6BRX0Qedi5PbgweDa4pjnl/Eq98L4WPYa8Gzr6uK+2SzUI9Nh2TDipeuX9qcDsRA6Gi0f7x3xGigYvhQAFIMSZxQ3G7ci/ywcM3c2VzmBNgMy8iffGQkO6wK0+zr2cvLF8g/2vvkY+pj3DPI/7NzjVtely+LA9b3DvzbDp8qX0vHeH+ug8k74k/kS+838x/vb/OT9MAM6DH4U6R0qIzYnDiprKHYl9h3UFfoPdQooCD8HTwl3DuMStRVfEw8ORAZl/D7yB+d+3qLXPNU013nbK+Qz7Hb05fvA/4MBWv5s+l33oPVt98X4jP5bB+ARRB8CJ0guCzCfK6EkNhP8Bb76bfPC84ruce/X8kf4EQJfA1QDx//d+O3yPOiH39bb59s/4Ijls+up9BUAHwkSD0IQvgwaCukFagMhBIIFswx5FA4cMSU8KmIw3DMtMfYrMSHQFsMPqgoRCQ0IrQiFCmYNdQ8zDiIKDAEW9/XoztiXy+HA/L/kwbTEB8sj0L3aCeRL6NPqRujJ53Pnx+XH57Hss/d1BCAPMBgaH+gmgysvKwAmFx3YFYMQZQ2aDJINnRJ7F6QbuR2aG2YYxA+7BJH4UexG5Mvcqtq33DPhLeqf74j1v/pz+7z6rvSg7iTrEunr6mDtJ/Tu/lYKmxU2Ht4ifyPFHQoQ2gNv+7j3cvh49qv3+v3JBcoPmxPCFKYTpwzHAwz3jO1w607r5Oyl7uXx2vohBGAKEg1XCxcIBwJE+kr08fGq9dH7hANpC3QSYxpgIGUkNyR1HjMWgQ1fCHsGBgZIB8sKcxCOFRsYbBeRFSASSAqa/DjrXNy21YXUqNSv1FDVwNkV4GPkAuW04h3gNd1Q27TZ6drq4LrqkvYVAcgI+w6sFO8YqBmuFmoS+Q4zDiAPBRJCFvwbbiEdJJskhSCUGSARYgcR/6v2N+6z6YfpLe7z8+L2OvkM+k36Hvi48eHrYOfq5ffmgeYP6pHx//toBk8M9g8DEOwO4QYZ/ab2ePMv90P56PwLAyULaRWvGlwcGBsEFQAO3wM+++/3i/Yj+Tb8hgDoB04O8RHxERAPuQmeAh75r/F4703w4/Wa/P0EWw8yFjMc4R3HGwwY1g5EBhP/LPzf/j8CAQlSD8QUjRnFGvcavBd/DxgCNPMQ5qDdydzQ3dTgcuRH5+/qiu2m7azqDOWV3TPWndGi0vHXC+Fp7Bf3kwHmCNANABGlEFUNpAjXA5gBQAJ5BX4N4BZJIKsmdyg8JxoicBgaDcIBbviX8nntfOx38BX31P/9BN0HCQglAxz+c/VC7ULpB+Xw5cPoSu0j914AdQmNDvYNtgofAg358fAR6/Hr5e5j8wP7UwXaEBQbHiB8INMdJhbODNIDOf9W//4A3gR5CYYPWRdvHPIdDRv2E+gJgv7l9Cjvju7v8H/2bf4jB4IP3xSWF+gWrxH8CakAZPnA9g33Ufo+AI4G4Q5uFYIYwBhuFCoNeAM0+Ivu0ueL5W7oi+yz8RD2vfjH+9b5afSa7HnjI9ws1hfU6tZR3rfnVvE9+ngB1QYwCBEGggH8+8n4Zfas9iX7VQIhDTUWih1RIukiSyDmFyoMZAIc+vT0n/Ci7jfztfonAxoI2AnuCisJFwSC+yHyf+wN6m7pPupz7m72LP9QBhgIuwfUBAv+d/bh7cjp5OmK60bwpffHAs8NHRYbGzkcZRvKFpAPNQguBLAEOQewC9MQqRfaHxEkdiRUIPYYwBDEBn/97/Vx8qn0v/llAC8IRw42EzkVfxJkDF8EgPyg9qLybPE59Gr6KgK8CPUMyw8eEEQNIAdu/cr0UO5Q6hHpKeol7m/z3/dj+/r8lvyn+a7z7Oyp5lXiueBF4Szlh+qF8Jn2p/shAOgBQQHO/pf79PmV+LL4q/uKANYH4Q3ZEoAWERgtF0ERRAoTBG//Yfwc+cn35PkB/+ADDAdhCCkIbgfBAgH81/V48aDwbu9Y76vxdfWH+0//OQGcArL+bvkU85LtZu2K7f/u1vG/9gr+dQVaC7cPjRJFEtUPmAvVCaAK1wu3Dk8RzBSWGs8dFyDOICIdOxkzEqILkQdrA8cBEAE+Ar8FOAgrCi8M8QtvCt8FTf55+iP4+PZm9lj0y/XE+vb/BARpBYgFuwX8An/+yvg69Erzd/FX8A7xh/Le9q76mfv5+0b6E/ih9pXyZu9F7cjsy+4T8PbxuPRi+FX8HP2q+2L65fnq+Rv5nfdh+PD70v+5AqcEsgabCBEJygbHA+EA3//D/cz72Pvz/SoCYwUKB5gHMwiyBxkFpgHx/Uz7evnt9pP1OfYk+VX8ff2u/fP84voM+eL1K/Ni8YTv4u+48Yv1JfqF/nADBQgoC3wMKgxZDMgNng43D2wQQhO4Fw4cbx6pH/MfHB9IHesYChXiEZ4OawydCowKLwtoC+sKhgn0B1QF5gCD+5D2RfPF8Z3wPfA48Y70AfjA+lv82fzh/Qn9h/r59sj0+vQR9Wb1vvWN9xD7zf0h/2v/Nv/x/rP9KPtT+cD4Cfl8+R358PhK+cH57/rw+rr5q/c59dnzafME8yH0T/XP9rH4XPmd+mv7Zvu5++T6GPoj+h764/vv/REAmgMHBmYIWwnNCLsIvAfqBu0F7wRUBHIEaQRHBSwGlQZOBosE8gE1/s353PXr8iXxLPFf8TLyj/TH9mn6D/2y/qT/tf8gAMj/CAGiA7IGSgqUDRERcxXrGNUaRRt2Gn8YKhZ7FH0THhMsE2gTrxPfE6sTOBJwEKsMmwcAAkn8t/hW9ir1RPXl9WD30fj1+Yz6dfqc+RX4//VS82jx7fDW8VvzRvX09yf7//3r/9b/D//z/Vv8pfoW+Y34MPlJ+l77lfzi/Ur/s/+i/ov8cflq9qbzkPGz8PDwM/J29N32w/jj+Z/6nfo5+vP4AfeI9Tn1n/Y8+CX7xP6kAlAG5ge5BzUHigarBSAENgJ+AfsBvwMTBYsG9QeNCHwIPQYGAy7/l/vU97/0UPMO85r0CffF+d/8tP/1ARcDBwOOAjcCkwIMA3wE3Ab9CfINGRIqFvsYjBqFGmgZ7RdbFR0TnxGkEC0Qtg9aD9sOMw5DDUULgAjPBKQA3vyS+R33v/W89VP22/Yz94f37ff39//2H/aM9fX0NfS686H0UPZG+Dn6KPwU/uP+wv74/Rv9TfyD+3v6zfn5+a76dfsI/KT89/wq/dL77/nr9+r1ePSY86/zdvSy9bn3WfkG+yj8Ufxu/Lb73vof+of50fmG+p/7V/xZ/Qv/mADqAZoCHwP6A6ME+gSXBV0GXAcBCA4IWAfYBmIGrgW6BM4DxAI+ASf/eP2v/F38NPwF/HH8Mv1p/nb/PgDeAE0BMwJyAlwC5ALIA34FpAdOCQwLUAyFDZMOdw65DeQMnww2DHYLigrrCagJRAmICJwHUAfWBrEFywPgAbcAqP9e/k39pfxv/F/8B/w9/G/8+/yN/av9qf3i/Er88/uP+1H7Tvun+1784fz8/On8Ff0L/XX8nftK+t74oPd09j31zvTx9HP13fX19SH2D/ZG9nb2dvaQ9t72e/eL+IP5qvoK/Fz9ff5d/9//3v/0/9b/n/9m/3z/HwBbAXMCLQP3A5QEnQRRBLMDzwJaAo8BCAG0AHsA4gBOASQC0AIiA7YCjwGgABUA5/8aAEoAagDoALQBlgIvA5kDDwQ+BQMG5gWXBWIFAQbIBnwH3AfxB0QIcQhfCIcIiAiECI0ImAe2BnoGPwbLBekEIwTVA2ED2wK6AWMAuf++/kT+Ef72/TD/uQBdAa0B6AF0AvcCxwKQAiQClwHGALL/L/8W/1L/df+x/o79Vvy5+oT5vPjg9+T2nfWv9EL04fPp8170DvWp9eL1SfaX9in3Hvg4+Qv6qPqw+wf9cv5t/xMAtABBAZEBowF4ASEBNQFlAUgBagF8AYgBhgFmAewAXgDi/yL/Wf7Z/br93v33/dP9sP0C/qf+I//N/0wA1ACBAawB/wHLApADMQR7BPMEfwUTBucGgAcpCOoIOQkbCYsI7weqBxgHVAa1BRIFZwTjAzEDbQLJAS0BswB3/xz+sP21/cz9Y/0B/Vz9u/0F/gL+0v0l/q3+Mf9v/93/0gD6AdgCnAM9BM8EYAWrBecF6gV9BQwFXQRiA6ICEgKpAREB7P/P/ur9yPy8+2j6K/kF+A73p/YH9rP1qfXR9bf2hvfq90L4xPi8+dr6i/sE/Kr83P0w/3QAdAEiAtYCagPwAy8EMwQoBOgDnAMrA38CNQJGAvsBWQGQAJX/w/4Y/nL9Av2r/ID8BfxC+6r6mfr5+mv76vtJ/Jr8AP2r/eP+VABtAUwC8QJ7A+MDeQRsBVsGHgdUBx8HHwciB/kG5gaQBhQGdQV7BJAD/gKWAkACvwEyAVYAMv+c/lz+HP66/Tj9B/31/Ar9Jv1P/a/9+f19/rv+5/6D/zsASgEwAokC2gJCA8ID9APKA2AD8wLBAp0CWwLfAXcB4AAeAFP/b/7H/Rj9LPyT+6/62vmF+U/5Vvkc+Q/5DfnI+O/4Xvn9+dr6m/ti/Ob8XP0G/uz+2/+ZADEBpgEBAlsC0wJbA+IDYQSxBJ8EkwS5BHoE8QOiA0EDhgKOAdwAhgAmANP/pf+a/6j/Zv86/9v+Z/4u/gX+Af77/WH+1f5l/1AA7gBnARUCrgIiA14DjQOhA3gDWwN/A4oDcwNsA3cDjQNGAxIDuAImAnwBtQDW/wD/Hf5P/db8v/wK/QH98fzu/NT8xPyz/N/8If02/Sr9Hf2A/f794f4CAL4ALgE4AS8BTQGMAcgB7QHLAaQBXQESASIBJgE4AfsASACA/6T+6f1q/Sf93fx7/FD8OvxG/JD8v/zd/ED9mv3M/Vb+6/4t/2j/3/+lAF4BugHOAfoBWQKmAq0CzQISA1sDkAOLAz0D2gJ+AhoC8gHDAT8BtgCaAJIAggCYALkAlQAxANz/n/+E/4P/w//j/+D/DwB7ACsB5wFIAn8CrgKfAmECJQK2AUgBSwFYATAB1gDbADYBzQEbAqsBOwHZAG0A4f9J//r+5P6z/lT+Lv6L/un+Wv+4/4//Mf+o/lb+BP6I/Vf9dP0V/qz+Ef+x/z8AhgCOAJoAhAA1AAcAuP9R/zL/Of+n/yUAbACMAGEA6f9g//z+YP7C/Yb9iv1D/ef8tvy5/P/8YP15/WH9Vf1E/Uj9Vf2H/dr9pP5j/+j/WgCTAAABhwGlAb8B0AHVAbwBfQHLAToCfQJ7AnsCYQLvAXsBGwHMALAAnAB7AIMAqgDGALQAowCTAIgAiwByACkA7v8WAHsACQGRAeEBDAICAscBqQGOAV0BJgEBAfQA1AC6AIgA8AB4AYABYAH6AJIANACz/yb/7/77/r3+d/5t/nL+w/79/uL+8v79/tz+1/7x/vH+9/4N/yX/GP8a/1P/g//E/8v/o//o/zUALQACALX/f/81/9j+i/5M/in+Bv4J/gv+C/4v/gT+7P34/b/9f/1n/VD9Ov04/VP9vP0q/nD+4P6H/8P/j/9k/3f/nP/C/xcATgBNAE0APwBhAOAAMgExAREB8gDDAJYAbQCCAKwAmwDYAAUB7QDzAC0BVQFlAXsBiwFtAUYB8gC8AOoADAFNAZ0BpwG2AbYBtQHQAdkB9QHcAdEB2AG2AagBjwFcAUQBQAETAcEAXwATAMf/ev9s/07/O/88/zr/Qf8c/wL/8f7f/tf+tf7a/g3/Fv9g/7//RACMAKwAvwDMAL4APADt/w8ABwAAAAAABQAyACMAQgBLAAIAvv+a/2H/vv4E/qb9oP2//QX+Sf5//pH+lv5r/hj+vP2A/Wj9bv1r/XT9q/0L/tr+xv8mAEUASwADALn/h/+R/8j/GQByAJ0AmgCoAN8AJwFNAVcBZAFRAQ8BvgBnABEABQBWAKYAjQBnAFMAXQBqAIkA8QBCASgBzAB9AFgAVABXAIgAyAD5AGQB0wEGAkoCZAI2AiQCOwIYAoIBBwEGAUoBIgEdAXEBugG+AUgB+ACuAFUACACt/6H/if8l/73+l/7Y/hD/R/+D/4n/ef82//r+wP6j/tH+K/9o/2f/aP9m/4b/2v8nAEcASgArAPP/uP+c/4X/Vv9N/33/q/9v/yD/9/7//vr+6/4A/+/+tf5u/jT+FP71/SX+cv6w/r7+jv6e/rv++f4z/y7/Z/+n/5T/Wf8k/0f/uP8tAH0AmQCsAKoAlwCRAMsA7wAFATwBdAETAY0ARQBIAHAAogDTAKoAeQA2AAYAEwARADwAlACjAHgAPQA/AI0A9wCPAe0B/gHFAWgBLQFlAbAB1AHhAe0BEALVAW0BVQGBAYYBUgEjAcsAMQCN/z//Tv9T/1z/if+o/4//Hv+2/o3+t/4a/1n/k/+g/27/E/8H/3n/+f97ANgA6ACgAB4Ax/8FAGQAiwCeAIgASQDK/23/c/+H/3P/cf86/6v+CP6p/cT9G/5h/of+qf5s/v393/0c/nb+7f52/9z/wf9c/wb/5v4d/4////8eAE4AfgBdAOz/qf8ZAI0AwQDHAGwAEQDw/+v///9DAKsA7ADdALoApgBTADAAhgD7ABEByQB8AE0AIgA6AHcAmADRAAsBEQHOAF4ATAB0AI0AwQDPAMgAtgC3ANUABQFmAcQByAGVAUgBfACU/4r/EQBQACIATwDQAIMAkf80/5z/8P/m/93////D/0n/A/8a/5f/QgCbAIcAlQCIACIAxf/7/3cAvACEAAgAiv8Z/+f+BP9x/xgAWADZ/yX/lf5F/lf+n/4L/2P/NP/h/tP+8/4+/7r/HAAyAPP/Zf8I//z+PP+w//L/IwAWAMf/iP86/z7/kv/B/6X/lf+f/2D/QP8v/zb/iP/Y/yEAWwBvAFMAAwDs/+n//f/3/wkAOQAdABQARACSALMAxQAQARABZQD8/zUAWwBIAFUAhgCpAI4AYgBxAFEALABcAIsAegCHAKIApwCpAKUApgCoAKMAzADKAKIAXwAsAE4AtQD/APIAxgCLAEEA6P/G/w4AMgAOADIAEABh/+X+Df+L/8r/zP+4/6z/Vf8U/z7/Z//B/xEADQDP/4f/hv+c/+D/PABfAB4Apv+A/2v/cf+T/5//5f/8/8X/ev9H/3b/xv/J/3L/YP+C/y//1/7m/jj/Yv9c/5P/nv9T/0L/b/+X/8P/6P8QAO7/xf/P/6P/fP+7/0EAhwBsAFgAOgArAPv/yf/O/wEAUwBMAAUA6f/n//7/DwAcACcAFAALAPb/+P8bAEYAfACVAH4ASwAOAP3/QwCOANIA+AAJAQUB5gC2AHgAYgCBAIIAYgBUAGUASABLAGcAdgCIAIUAkQBmAO7/nv+a/6f/p//Q/wYAAgDa/8L/0v+y/9X/LwBdADUA1//A/5n/bv+V/8r/zP+q/6r/sf+k/+r/LwBEAB4A4/+P/yT/Ff9D/4r/vv/V//P/3v+c/5//1v/h/6D/gf+f/6L/lP+f/8f/FQAsACEA+//n/yUARwAbAOH/2//p/+3/DAAnABYA2/+E/2z/k/+z/7D/nf/L/7H/Uf8x/4b/8v8OAPP/0P+5/8//EABeAIsAkQCMAH4AXQBUAHMAqADUAMwAogB2AGMAbgB5AJMAZgAsAPb/zv/G/8P/3/8DAPv/1f+Y/33/e/98/6H/wv/K/+L/5P/N/77/w//j/9v/6v8DACMANAAhACoAKgAnAEEAZwCcAKgApACbAHcAWwBpAGwAOQAmACcACwDs/wIAFwAQACwAUABNAA8A8v8bAEsAYABRAFcATQAaAPD/7f/f//H/NABkAGUATgA2ACYADwD9/9H/j/99/4z/p/+j/6v/vP+5/8D/pf9r/2j/mP/S/+b/7P/t//L/8P/p//b/7v/p/+j//f8eACAAGgAIABoAIwARAOX/rf+9/9H/q/9w/3z/wP/g/9z/u/+i/3v/U/9W/3T/lf98/2P/aP93/4f/sf8BACgAPgA/AB8AFwAmAFQAdgBpAGYASAAMAPP/SgCWAKMAqwCiAJIAaAAmAAQA8//d/+3/9P/0//b/+P8aAC0AMQApAAYA/f/7/97/qP+T/8b/1//l/xEAFQD7//f/KABKAEUARQBFACMA8//A/7v/3/81AHoAfwBsAFgAcQCAAIIAigBnADcAHAAQAPP/7v8mAHQAoQB9AFIAMgAXAPb/3v/Y/7j/kP+O/6D/zf/a/87/5f8VABQA3/+5/7P/qv+j/63/pv+j/6f/qP+F/5X/0P/m//r/IgA7ACwA/v/j/8//pf+R/6L/yP/X/+j/EgAmAAMA9/8NAAoA8//a/8T/x//S/+n/3P/c/xoANQATAOj/9P84AFcANAAIAOX/2/+//57/tf/e//z/AwAOABYA8//a/9D/2f/q//D/8//k/+D/BQA1ADYAEwBFAI0AiQBVAFQAaQBIABAAEAAWAPz/GQAyACkAIAAoAFEAcAB6AE0A8f/J/9f/7//y/xAAXABsACoAyf+i/73/4/8DAA0A8f/A/7r/zP/k/ycARQAmAA4ACwD//9z/4f8PADEAUQA3AOL/2P8TADIADgAgAFIARAAQAPr/CwARAAoACgASAAYA7f/o/+H/y//b////BwDy/+3/9//L/47/hf+f/7X/uv/B/+X/9v/t/8b/r//b/wIA/P/0//j/+f/u//H/HABDAEgAPQAfAPv/7P/3/wQA8/8HABIA3v+s/6L/xf/t/wgARgBYACYAAwDl//f/FwAqABsA8P/z//j/1//o/xwASgBSAD0ANQA2ACUAEAAXACoAMAAxADEAKgAsACcAFAAGACIAKwAdAA8ABwD0/87/2v8BABwARgBwAGMAIQDs/+X/CAAuAEsAUAAqAPv/5v/v//P/IwBhAFoAGgD2////BwADABMAHgAeAA0A6f/f/+X/9P8eADAANAAmAPj/6f/s/97/vP+3/9r/+P/2/87/qP+b/6z/0P/y/w8AAQDI/3z/YP+W/8j/1f/z/yQAIgDv/9H/4v8IADEAPwAYAOn/y/+9/77/6/82AGkAUQAcAPL/0f/G/9f/DQA1ACYA+P+7/5L/lf/R/wgA+P8AABoADwD0/wIAQQBfAEQAJgADAPn/+f/v/xQAHwAcAC0APAA5ACMA7v/N/9H/6/8RACgAHgAeADoAKQDX/9T/WACuAHEAGQAIACYACADh/ywAjACdAGIALQAgABEAGQA9AIIAtgCEABUAuP+s/+r/DwASAAsAEgDv/6r/lv/D//7/BgDr/+f/4//B/6b/t//r//3/0/+g/7H/xf+p/6b/vv/z/wwA9P/f/8H/q/98/0v/pf85AGIALwDz/97/2f+u/5f/vv8VADgA+P+4/7f/2//i//P/DQAOANv/pP+d/5L/q//0/ykALwAAAMD/rv+p/7j/3P/w////JQBaAEMA4P/T/y8AbABLADsAXwBeAC0ADgASABgAOwBoAGcAJgDP/8n/CAA3ADEASABsACcAvf+7//n/JwA4AGcAlgBSAPH/zP/5/yoAKABgAIkAagA9ACQAIAANACoAWgBIAAYA3P/s/wMAHQA4ADEAGwDk/73/v/+u/6r/y//7/x8AKgAzADQADADp/9r/0//p/wUAFAAdAAwA6//v/wwAHQD9//n/IgAhAOX/vP+7/8z/1//U/87/dv8s/0H/ff/J/+v/9f8AAPb/of9M/1P/gP/P/xoAIADg/5//lf+1/+r/JQA6AAYAvv+0/+j/9v/o/xgASwA7AAUA4f8BAC8AEwAGACMAGADr/8D/sf/A/+j/NgBCAAMA5f8RAEMAIADi/9f/9f8LADEAQAAqABoA/P/4/woAHwBPAIMAiABNACYAOgBQAGEAigCoAJoAeQB4AGYAOAAzAF4AggBiADcAJwA6AEoAQQA+AD8AGwALADYAUAA5ACEAGgAYAB0AGwAMAAIAAQAMABgAHAAnADAAMQALANf/5P/k/8X/qP+1//P/DADp/8D/lv9z/4L/x//z/93/yv/d/+T/xP+h/6L/yP/q/wsAGADR/5P/vf/o/+r/4v/t/+X/w/+u/6//1v/y/wEAAwDr/9D/sf+s/7f/rP+7/9j/6v/Z/8P/yf++/6z/tf+z/8P/0P/S/+j/5v/o/+3/AAAWABQAFQAQAAMA/P8RAEMAaQBuAHgAVgApACYAPQBQAFwAhwCGAEsALAA3AE0ATwBNAFYAXABBABoAEgArAEkAVwBNAEkAWQBeAD4ALQA8AFYAVwBKADgAKwAvAEwAagBUACoAKgBOAFUAQQArACQAGAAeADwAUwA5APz/7v/f/8z/1P/p//X/9P/u/9v/tf+0/9L/7//c/7b/t/+//67/uv/V/9L/wf+0/7P/wP/G/7f/vv/W/8D/tf/b/+X/1f/F/6f/qv/B/87/2f/Z/97/z//B/8P/r/+5/8//3v/L/5X/hv+l/93/+v/m/+P/9f/z/+f/wP+4/8v/6/8FAOj/xv++/+n/DgAPABcAGQAkADoAJwADAPj/BQAdADQAPQA9AEwAUgBCAEoAVQBhAFkAOAAtACcALAA1AE8AfgCXAGwAMgA+AGYAZgBiAFwASgA1ACUAIwAnADQAXgBlAEQAMgA4AEkAMwAcAA4ACwAfACEAHQAFAOz/+P8CAO//4v/u/wcACQDo/9P/1//q/xMAJgD4/7T/tv/I/9j/6v/S/57/kf+w/9f/9P8BABUADwDx/8L/nv+o/9H/9v8DAOr/r/+T/7n/5P/4//z//P/2/9z/qv+f/9z/EAAcAPL/0P/J/9z/9v/7/wUAAAACAAwA7//Y/+3/BgAKAP3///8FAAsAEAAIAAQA5f/D/9r/AwAVAPf/4f/V/9z/EgAbAAkABwAhADwAJgAGAAQAIwAqAAwABAAQAB4AOgBKAFAAUABRAGAAWgA9ADAANgA6ACsAKgAuAC0ASwBMACoADgAdACMACwD//wEACgAcADEARQAyABYAFAAeACcAEAD+//T/6P/v/w8AMgAeAA8AJQAVAOj/z//t/wkAEwAJAN3/w//C/8v/0v/c//H/9v/n/9L/w//X/+z////u/8f/q/+f/67/v//Z//L/AADt/9j/yv/P/97/+v/7/9j/uP+u/7T/zP/b//D////7//7/+//z/9v/4/8GABEACgADAAcA+f/X/+L/9//2////EAASAPr/7v/r/wUAIgAjACcAGQAOAAQA8P/t/woAPABBAC0AFQABAAgAEgA6AEoALAAaABAAAgADACEAPABBADcANAA2ADkAMQA1ACIAEwAQAPX/5f/y/w8AFwAeAC8AMgAfABAAGgAiABUAAADx/+//+v8EAAMAIwBBAFgAWgBIADMAHQAYABAAGwAdAO7/xv/B/87/6/8AAC8ANwAPAOP/vv+r/7P/0P/T/7j/p/+e/6T/uP/E/+j/7f/e/7L/lf+W/6P/r/+5/9L/3//o/+H/3//y//v/AQATABQAAADf/9H/z//K/7v/sv/S/+//+//u/9X/2v/p//b/GQAeAPD/wf+4/8X/3P8BACYARAA2AA0A8f/0/wUALgA9ACMACAD1//T/EAAxAFcAWwA8AB0ADAADAP7/IAAuADAAIAAIAA4AAwD2/woAMABDACwAFwANAA4ACwATADQAOgAuACgAEAD9//L/BwA2ADgAJQASAAgA7P/9/z0ARQAzABIA8P/l//b/CwAbACgAQQBBABQA7f/+/xsALAA2ABwA8f/W/8b/1P/8/wAAAwAGAPP/z//I/8r/zv/Q/9L/yP+6/8f/zf+7/67/xf/Y/9f/zf/H/7v/tv+1/8L/0//P/9H/2f/V/9j/5f8JACIAMwAuAAoA4P+8/8f/4v/z////+f/o/93/0v/W/+r/AwARAPb/yP+4/9n/7P/x//v/2//E/9r/5//i/+v/CwAQAAwAFwATABUAGgAlAC0AJgAoAC8ARgBjAGkAbgBTAEEAOwAsAC4AHAAoADQALQApACsAMQA6AFgAWAA4ADIALQAjACoAJgAoACMAIAAjACEAMQA8AC8AJQAmABoACQAUABIA/v///yAANwApAA8ABAAbADkAQAAaAPX///8TAP7/4f/k//j/FAAnABgA6/+7/6n/5f8UAA0A5//R/8n/vf+4/7X/nv+n/8X/1v/J/6v/wf/q/wQABwDu/8v/yf/T/83/x//J/+//DgACAPv/CgATAA0ABwARACAAIwAGAOP/vf+l/7//3v/f/+D/1P+5/7r/yP/Q/+L//P/x/8r/qP+b/6//1f8XAEcAHAD0/wMA9P/Y/+j/AgAKACAAOwAzABsABwAkAFsAXgBXAFkAUwA9ADEAOwBLAFYAZgBoADYAEwAiACsANgBOAGUAagBNAC0AFwAWADIAVwBkAEEAGAAMAAwAHAAZACEAMQAUAOj/7P/8//3/EgAwADoAJwAYAA8ABQADAAsAFQANABgADgDj/83/2//i/9r/4//w//z/AwDz/+v/6f/l/wAAFQDl/5z/gv+P/5r/uP/U/9r/2P/U/9r/uv+t/9j/5f/N/6X/jf+K/5P/x//3//7/6P/h/+r/2P/G/9n//v8NAAEA9P/a/9j/BgA6AFcAUABJADEABADt//f/BwD+/wIAFwAIAPP/AwAjAC0AOQBBACkAGQD1/8z/t/+9/+H/+/8BAOv/4v/n//j/IABNAGkAWgBFADEAFwAgAEoAZABhAD0AQQBGAE4AVgBTAGIAUQBWAEUAFgAbADEARgBOAFYATAAyACIAKwAwAB8ACwAFAA0A/v/w/+//7v/p/+r/7//t/9v/zv/x/wIA6//v/wIABAD5/+n/6f/d/9T/7/8MABMABwD7/+n/4v/c//X/EADs/9L/2f/a/87/0P/e/9X/yP/N/83/yv/I/9f/4P/E/7L/wf/X/9L/4f/u/9n/xP+u/6r/vP/X/+P/1P/D/8z/0f/o//H/5f/2//j/5P/U/9f/0v/X/+3/+v8OABsAIAAiACAACQAOABoAGgAhADIAWwBmAEwAPABOAFwAVgBQAEQAMAAUAAsAFwAxADUALwAtADEANQA1AEYAOAAlACEAGQAOAPv/DgAeABgAKAAkACAAHgAoAFwATQAjAD4AaQBiAEEAMAAaABAADAAiAEwAUABAADUAEADv//X/CAAeABIA/v/o/8v/xf/V//n/GwAiAAwA6v/N/7//uv/E/6z/kf+o/7X/rv+x/8H/yf/H/7n/y//c/8b/qP+c/5r/i/+S/6H/tv+6/8f/3//g/+b/4v/v/wUA+v/d/9H/1v/W/9f/6f8JABcAFwAPAAYACAARABgAAgDr/+X/2P+8/7n/6f8AAPb/AQAIAAMAEAAZABQA+P/o/xUAKwAcAAEA9f8SADMAUABmAHAAWAA3ACsAPQBVAFsATwBCAC0AGAAhACQAQQBwAIQAcABKADYALwAxADcASQBNAC0AFAAsADkAIQAkADIAOwAwACwAQAA8ACEAFAAOABQAKgA0ACUAGQAOAPT/5P/a/93/6P/r/+3/0P/B/9r/1f/h/wQA/f/c/9P/2//X/+T/+P/7//P/z//G/8v/w//A/87/4f/m/9L/y//O/8v/yP/E/8X/1P/Z/8H/oP+c/53/p/+9/7//sv+c/47/f/96/5//0v/o/9n/v/+0/7f/xP/k//T//v8MABYAGAAFAAIAFAATABMAFQAFAAUADAAdADQALQAkACUAMgAfAAQAAQD6/wUAHQAsAC4ALwArADIAMwA0ADEAPgBVAEoARwArABMADwAbAD0AOQA+AEgALQAfAB0ALABEADkAHgALAAEAAgAfACEA6f/q/w4AHAAdABgAHQAsACoAHwAYABsAKQAuAE0AXABGADoAQQBGADMALAAeAAgAAgDr/97/6v/o/+b/4P/Q/7r/yf/l//H/9f/u/8n/tv+7/7n/vv+z/7T/vv+x/67/t//K/9T/w/+6/77/0f/Q/7z/tf+t/7X/qP+r/8H/tP+8/8L/rP+j/7n/0f/U/8T/xv/K/8z/xf/J/+L/3f/s//b/6f/m/+f/7v/u//L/AgAKAAMA8f/6/w0AFgAUAAIACwAgACEALAAvACUALAAzAEEAOQAcACUARQBTAEoAVwBsAGgAYgBgAFcARwBBAEoASwA2ACcAJgArACcAJwAzADAAMAA2ADoAOAAqADMAMAAeACIAJgApADAAKwA6AEMANAAsACIADADt/+//AAD0/93/1f/t//T/6//Y/7v/qP+6/+H/6v/R/8D/wv+2/6f/pv+p/7r/5P/6/9n/wv/Q/+D/6f/p/+L/5//p/97/2P/a/8//1P/m/+v/3f/k//H/8v/v//X/2f+3/7X/qf+j/7n/4P/2/wQA/P/o/93/xv+4/8H/x//P/+r/AQD9/9z/xf/a/+X/4f/a/+n/BgADAPr/+//6/wgAGQAXAAkAFAAhABsAKwBNAF8AUwBGADYAIQAgACYALgAvABAABQAeACEAGwAkAD4AVQA5ABwABwD8/wgAFwA4AEoANwAUABAAKwAiAAQAEQArADEAIQAWABcAIgAyADoARQA8AC8ANQAsABYAFQAAAOX/6f8QAB8AAwD3//X/7f/n/+j/7//f/9r/6P/9//7/6f/k//L/6v/X/9H/z//W/+n//v/7/+7/1//H/8r/yf/g//H/8f/6//n/4P/c/+j/8v/z/+3/AAD7/9f/vP/M//n/DAAKAPz/6//u//f/9v/e/9P/0//P/9//5f/d/9H/0//0//3/3v/K/9P/3//l//L//f/2/+f/5P/p/+H/zf/e//X/+P/x//T/CAAJABgAKwAoABQAFAAYAAoAEgAyADsALQAmADUAPAAsACYAMgAtACsAMABIAEwAPwBDAFcAYABGACoAKwA9AFAAQwAfAAsADQALAAgABQD9/wIAEQAbAA4A/f/6/wYADgANABAACwAKAPv/3f/R/8b/x//b/+L/3//l/+v/9v/9//b/6P/R/9P/7f/s/9T/3f/u/+P/wv+2/9L/6P/h/9v/4P/V/83/2v/h/+n/5f/i/+z/9P/2/+7/9v/u/+j/3v+8/8H/8P8RAP3/4f/f/+P/7P///yUAMQAdAA0AEQD//+v/8//7//L/0P/e//r/CAASAAUABAD9/w0ACAACACQALAAaAAkACQAFAPb/DgA6ADYADADy/wcAJgAhACMANAAuACUAHQAeABIAHwA6AD4AMQAZABkAFAALABsAIQAcABIADQANAAgAJABrAHUARwArABMADgAQABAACgAIAAwAEAANAOD/zf/m/xMAPQAvABMA9P/r//b/7v/y//P/AQAGAO3/yv/K/9L/5/8BAAQA8P/S/9H/3v/W/9T/7v8IAAgA9v/q/+j/6f/x//f/9//0/+n/3//O/7z/tv/Q/+3/7f/w/+//2P/a/+f/8P///wMA6v/Y/8v/tP++/+r/EAAkABUA9v/s//j/DgApADgAOAAqAA4A8v/z////BgAKAAsAEwAJAPT/AQAIAPz/9P/y//L/7////xgAEwACAP7/DwAhABoAIgAhAAwAAQAOABkADwAVABEAAgAKACkAQABAADkAQAAzAAsA9v8AABQAHgAgABkA///x//j/GQA0ADMALAAkABsADgALABEAEwAIAOr/4P/i/+f/AgATABIAEAD5//n/AQAAAPz/6//s/+T/yf/M//3/KAAkABUA8//N/8f/3P/2//7/8v/g/8j/u//W/wYAGQAfABYAAADS/7n/w//c//L/9v/7/9z/q/+q/8H/6v8PAB8AHwAEANn/v//G/97/AAAZAB8ACgDk/73/xf/n/wwAMAA9ACAA6v/Q/9v/7f8DABwAIAAUAPf/5P/R/+D/BQAiADkAMwATAAAA9////xgAPQBZAFEAKwAMAP//BwAmAFAAVAApAPv/3P/Q/+z/HABEAFwASAAWAN//1f/q/w4AHAAPAAUA/P/o/+L/9P/1//z/BAAFAAUA/f/3//3//v8BAA4AEgAfACkAHgAIAAEAAQAEABMAJwAoABMABQADAAoADwAgADYAKAAJAPD/3//W/9v/6f/z//L/2/+8/6P/of/P/wAABADn/9D/tf+m/7L/3f8KABsAFQABANH/rP/A/+3/BAARAAwAAQDz/9j/3//5/wwAFgAFAAQA/////wsADgASAAoACAAWABgADADu/97/4v/6/w8AGgAiAAsA9v/m/97/9v8XACwAJwANAOr/0P/O//b/JgAxACoACwDi/9j/+/8wAEQANwA1ACQA/P/5/xsAPABNAFUASAAmABcAFQAVABwAJAAnABYAFgAYABcAGAAOAAsACwAUABgAAADW/7f/u//N/9X/2f/f/9b/vv+w/7r/vf/U/+z/9/8DAAIA9P/g/+H/BAAaAA0ACgAIAP7/BQAYACkANwBCAEcAOQAiAAIA8f8FABgAJAA7ADoAGQDq/97/5f/q//j/+//6/+r/1f/L/8D/vv/c//j/FAAIANT/uP+x/8n/7P/4/+3/2P/R/8j/y//o/xMAMQBAADsAFADx/+f/8/8aADsASgAuAAEA7f/Q/8z/+f8aABsAEgD3/9//zf/J/+r/CwAcABQA7//J/6n/wP/v/xUAMQAjAA8A+v/z//7/AQAVADEATwBeAEMAKQAkACoALQAyADYALQAUABcAIQAXABAAHQArADIAKwAgABUA/f///xoAHQAkABEA6v/N/7v/vf/N//H/CgAGAPH/1//Q/9X/5f///xYAFQD//+P/3f/n/+//BAAKAAEA/f/3////BwAFAP7/8v/9/wcA/v/r/+P/4v/p/+3/4v/k/+b/5P/a/77/s/+5/9T/+P8HAO7/6v/x/+v/8f/+/wkA/P/w/+3/9f8GABsAIgAJAOz/6P/3/wEAHAA0ADIAKAAqADUAHwAFAAMABQAEAPT/7P/r/+j//P/7/+b/4//r//3/+//6//3/8//u//X/BAASABwAJwAeAAoACwD//wIAFQAoAEAANQAvACoAMAAyADIARABFADwALgAdABIAAwALABYAAQDz/+f/y//B/+H/CgAUABIADgAJAP//9v8FAAoAEwAaAAsA+f/g/97/3P/j//3/AgD6//P/8//u//r/GQAmABoABwD9/+7/3v/y//X/4v/i/8//1v/f/+b/8f/y/+3/6v/p/+T//v8jADAAHAD4/+b/8v8AAAkAFAD//+z/5f/n//T/9f8NABwABgAAAPr/+P/4/wAACAD6/+//7f/n/9v/3P/O/8H/zv/g//T/CgAUACMAHQADAP3/CgAnACwAKAALAO7/9v8LABkACgARABoA/v/u/+//+/8TACgAQAAqAPj/7f/e/9n/+/8OAAgA/v/p/93/2P/h/wUAIAAvAD8AQAA0ADoAQwBOAFIAPgBCAD8AIQALAAIAGAA+AEcALgAeABYAAQD5//j/FAAuAB8AEgDu/8z/uP+x/8j/1P/P/8v/tf+f/7X/3P/5/wcAEwANAPv/7//m//T/BwAjACoAEQD6/+r/1//L/9//BQAZAA8A/f/r/+P/6v/7/w0AFwALAPH/zf+0/7D/tP/L/+H/4f/X/83/w//H/9P/9/8XAB0AIwAdABMAAwD5/wQAFwAqACgAIAAPAPn/BAAIAAcAHAAvAD8AMgAsADIAKAAiACsAKwApACQABADb/8j/2P/n//b/BgASAAoA7P/s/wYAHgAuADUAPgA4ABAA7//j/+3/EwAtACgADgD///X/9f8HAB0AJgApACMAEQD+//n/DQAeABwAFQAKAPL/0v/I/9r/6P/z//X/6//o/9D/v/++/8b/3f/x////+//y/+//3//W/+v/AwAQAA8A///x//b/FwAsAC0ANAAjAA0A9f/f//L/BAAFAAcA+//v/9n/zf/a/+z/AgAHAAMA/f/m/9v/6P/w//j/AgAEAP7/5f/V/9//8P8NACUAKQAeABEA/f/0/wUAKQBCAEsAMwAjABAA9f8EAAkABAAXACAAEwDo/8v/3v/5/wkAGwAcAAMA3P+7/7j/3P8DAB0AGwD5/+r/4f/K/8////8lACkADwD8//z/8P/5/wYAEAAbAA8A7f/c/+r/CAAWABMAIQApABUA9//z//b//P8SABYAFAADAPf/7//i/+f/+f///wQADAARABEA+v/u//b/+/8VACgAJAAgAA8ABQAQABkALwA6ACkADwD//+n/3v/q/wUAGwAeABAAAQDk/9T/7v/t//X/CgD9/+L/y//J/97/7//2/wcA8//k/9//0f/W//r/GgAWAPb/4v/g/+D/4v/6/w4AHwAnABEA8P/j/+f/6//0/wwALQAdAPf/1//X/+7/AwAPABcAGAANAOr/1P/X/+3/BQAAAAAADwAHAPL/3v/n/xEAJwAmABgAAQD2//X/+f8FACUAQAA1ABAAAgALABoAIQAyADkAMQAdAPL/2v/t/wkAJwA2ACwAJQD+/9T/wv/C/+X/BgAVABQA8//W/8v/xf/i/w8AIwAlABUAAQD+//v/BwAYAB0AHgAPAPv/7//6/xcAMQAzACkAGgD7/9v/3f/n//r/FQATAAYA9P/l/9v/1P/q//3/7//a/+P/6v/b/9z/7/8JAAkA+//q/+L/6v/+////6v/t//r/9v/0//n/BAABAPr/CAASAA4ACQAAAP///v8CAPX/6P/1/wUACgD4/+z/9v/t/+v/8f/2/wMABQAGAAEA+v8NADAAMgAzACoAFgAGAP3//f8OAB4AGwAGAPj//P/+/wcAIAAqACgAFADz/+L/6/8AABMAHgAjABgAAgDx//T/EgAxAEoASwAsAAkA+v/w/wIAKQBEAEAAFgDw/9//4//4/wgAFgAXAAMA5//U/83/3v/3/wwADgACAOb/zf/J/8z/7f8FAAQAAgDt/8X/vv/a/wQAKAArABYA+f/m/+j/AAAVACkAPAA0ABsAAwDu/+H/5P/t//v/AAD1/+v/5//j/+b/8/8GABEA///r/93/2//m//L/+/8BAAAA/P/+/wQACgATABUAEwACAPr/+f/2//v/AAAFAAwACgAEAP7/8f/i/9X/3v/x//v/BgADAP3/8f/w//f/+v8DABIAHAAcABYACwAFAAIA/P/8/wcAIAAmAB8AFgAUABwAJAAbABsAEgD8//T/+P8DABEAGQAUAAUACwAbABgACgAGABUAGAAIAAUAAQAHAAoACgAjACsAJAALAOb/1P/Z/+n/AAAPABMABgDy//H/AQAHAAwADAD5/+f/8P/4//f/AgAJAAIA9P/x//f/AgAQAB8AHAASAAsAAgD9/wEABwADAAIA///x/9v/yP/Q/+L/6//2//z/9//y/+//9//z/+3/9P/u/+n/9f8HABAACQAEAPr/9P/3//f/AgAEAAQABAAAAAkACQADAPj/8//5/wEAGAAmABsACgAGAAoACAD1//T//P/3//n/BgAQABIAGwAdABYAGAAOAPn/8f/q//H///8CAA8AFwAgACgAMwA5AEAANQAVAAYA/v8EAA8ADwAJAAcA/f/6/wEAAwANAAIA+f/4//f/AwADAP3/9P/t//X/9f/1//n/AQD9//H/9v8LAAoA8f/r/+//9f8FABEADQAEAAUA//8BAAAACwAOAPj/7f/o/+P/zf+2/67/vv/g//b/BAABAPb/6P/d/+f/AAACAPr/+v/t/+n///8YAB8AFwAMAPb/6f/o//X/BgAHABEAEgAKAAAA/f8JABUAGQANAPv//v/2//X/AAARABwAFgAFAO3/3f/j/wcAJwAqACMAFQAJAPP/8/8GAA4ACQAHAAwACwAVACIAJAAjACoAIAAHAPr//f8FAA4ADwD7//H/+P8AAPv/9/8GABMADwAAAPP/7v/o/+n/7//z/wQAEQAVABUACwDx/+r/7v/0//3///8BAPz/8//3//v/9//6//r/9P/7/wIABwD+/+T/zv+8/8D/zf/V/9z/6P8AABEAIAAnAB4AEAANAAoABAAFAAAAAgD+//7/AQAFAAYABQAMABIABwD+//X/7f/b/8v/1//l//f//f/3//j///8HAA8AEwAOAAgAAQDy/+P/6v/t//H//f8FABgALAAxAC0AJgApACMACAD0/+z/3P/V/+b/+/8EAP///v/9//z/9f/5/wMA+v/l/9f/0P/k/wEAEQAUABUAGgAgACsAKwAuAC0AIQAWAAwADgAVABwAHwAcAB0ADgAIAAQA/P/8//n/+P/q/+H/1f/O/9z/7P/u/+j/8P8AABAAFwATAAIA+v/7//f/6//o//b/DgAVABQAEgASAAoABwAHAPX/2v/W/9z/4P/t/+T/zf/H/9H/4P/4/xAACgD3/+D/1f/X/93/7v8AAAAA9//2//L/9v/+/xAAGwAJAPT/4f/g//D//v8QABkADwD4/+3/9v8EAB0AMAAsAB0ACQD9//T/9v8JABMADgAKAAQABAAKABUAKwA3ACYAEQABAO//9/8GABcAHwAZAAgA9//8//z/+f/6/wEAGAAjABQABwAIABMAIgApABcAAQD6/wAACgANAA4ABgAIAAEA+f/r/+D/5v/t/wAABQD2//H/8P/w/+n/6v/7/////f/7//7/BwD4/+v/9P/8/wMAAADu/9z/3f/2/xAAEAAGAP//+v8AAAcAEAAKAAUADwATABUACgD9/wgAHQAdAA0ABAADABIAEQAPABQABwD9//f/9v/9//f/7//q/+r/6//u//X//P8BAPv/+v/3//n/AgACAPn/9P/6/wYAAgDu/+j/9v8KAAwAAgD//wAA/v8BAP//+v/7//7//v/x/93/yP/G/9r/9v8KAA4AAwABAAYACAAAAPH/9/8GAAQA8v/t//f/BQAfADIALAASAAQABQAcAC4AOAAyACoALQAeABIAEwAZAC0AQQA6ACsAEQAIAAsACwAZABoAFQAKAP7/BAD///H/8f/4//7/8f/a/8z/3P/3//3//v/z/+b/2v/U/+b/9//z/+r/5v/y//3/8v/w/wgAHAAkACsADQD8////AQAKAPX/6v/l/+f/8/8DAPn/1//O/9v/+P8MAAMA6f/Z/+z//f/9//7/BgAKAAsAGAAaABUACgAHABoAIwAhABEA/P/4//z/FAAZAAYA/v8AAAUACwAFAAEA9P/w/wYAFgARAAQA/v/8/wEAAwABAAUADwAIAAMABQD+////+v/y//7/CgDw/83/vv/M/+b/CAASAPr/3v/d//H/7v/Z/+D/AwAYACIAIwAVAP//AgAnAC8AFwD7/+v/5v/v/wwALAAqABUADAD5/+D/3P/1/wkAGQAtACQAAwDm/+X//v8qAF0AYgAnAPT/AAAiACIANgBMADcAAwDz//T/7f/p/wsAPQA3ABoA9P/O/63/xv/1//b/2P/B/7r/rP+1/+H///8AAPb//v8AAOv/2v/i//P//f8OAAYA3v/Q/9r/9/8CABQAKAAZAAAA7P/o/9z/2f/o//3/6//2//v/5//j//3/IgAaAAkAAwD5/+z/9/8cAB0ACwAMABAADQACAAoAFgAVABUADgD///P/AgAeACUAFgANAAYACAAUACgALQAgACUAIgANAAIABgAIAAkAIgAlABQA/P///xoALgAfAA4ACADn/9D/5f/u/+3/8//4////+v/z//T/6//k/wYAEwD6/+X/6P/0/wUAEQAXAA4ABwABAPP//P////7/BQAEAAAA9//l/93/4v/y//f/BwAOAPn/5//z//T/8P/5//v/+f/r//H/AQAEAAAAEQAbAAgA8f/v/+b/2//v/wcAJgApAAQA7f/e/+j/AgAMAPn//P8RAPz/2//O/+X/CwAVABwAEQD3//D/9f8BABgAEwADAPD/4v/h/9n/5f/8/wgAEQAAAOX/1//Z//D/+v8TAB4ACQAAAP//+f8SAB8AJAAvACsAGQAKAAwABwAeADYAMwAsACwAEQAAAAsAFgAUABMA/P/y//r/9P/5/wUABQARAA0A/v8MABgAIAAZABcAAgDz//j/7v/v/woAJgANAPj/8P/6//7/9f8BAPH/7v/c/9H/6f/2//r/+v/n/+D/5//h/+f/8P/9//X/7P/d/9H/3P/t//z/BgAEAPr/6//j/+//7f/j/+X/6//k/+b/6v/Y/+j/CwAXAAgADQAZABUADAAGAAUAAwAJABUAHgARAA0AFgAUAAoACwABAO3/+f8KAAkA7f/o//b/+f/4//P/5//h/+H/7f/0//n/CAAHAPf/6P/i/+//+v8KABsAIwAaAAgA/P/t/+X/9f8KABgACgD6//D/7f/2//r/BQD+//r/AwABAPf/CwAhADEAJwAIAAEA//8PAB4AJwApACEAJgAnABAAFgAvAC0AKwAxABkA+v/+/wsAEQAdACAACwD4/wAAAwABAP3/FwAjAPn/4v/i/+n/8v/6////9v/l/+D/3P/g/9//6v/s/+L/z//F/7//wf/t/wUA///s/9f/v/+9/9T/8P/2////DAD//+L/1f/V/+b/+P8GAAsA9v/n//L/AAAOAAwA+v/l/9v/1//h//j/EwAkACAADgDy/+P/3f/k/wQAGQAfABMABQD+/wMAIAAwACsAKAAhABkABQD+/xYAJAAqACMAGAAEAAcADAAMACYAQwAyAA0ACAAHAAcA+f/y//3/BgD//wMACwAWABgAGwAlABwACgACAPP/8P8LAB8AJgAVABIAFQAIAO//2//m//H//v8HAAcA/v/u/+v/7P/l//L/AAADAAUACQACAOf/7P/9//r/9//2//X/7P/1/wMAFAAVAA4ACgD4/+b/6P/t/9j/5f/5/+7/4//j/+//9P/4/wUAAAD4//r/8f/q/+b/+v8LAAAA9//8/+n/6f/1//X/8//v//f/AAAHAP//9f/w//b/AwAVAAEA+/8TACQAFgAEAAEA+v8CAA4AFwAUABEAHQAjABcACQD+/wAA/f8AAAMA///4/wEAEgAIAPf/7//x//f/DQASABoAGgAkACIABADz/wYALAAyACsANgAmABMACAAIABkAFQAaAA4ACAARABQAEgAOABcAHAAMAPT/6P/7/wkABAANABAACgADAPf/8v/+/xgAHQAIAAAA8//g/+D/9v8LABEABAD2/+//5v/d/9v/4P/2/wkA/P/s/+L/3P/l/+//8P/0//7/BAD4//X/9//7//7/AAD3/+X/7P/j/9//9P8DAAkADwAYAAAA5f/y//7/EAAYAA0A///6/+7/3f/p//j/CwAeACMAEQD7//3//v8BAAcAHwAgAAQA8f/w/+7/7P/4/wkACwAHAAUA/v/6/wUABAACAAgAEQAcABEABgAMAB0AEAAGAAsABgAGAAwAAAACABMAEgASABUAHgAYAAYABwAIAA8AFQAMAP7/8P8BAAgA//8CAA0ADQAMABEACQD0//T/AQARACYAGwASABEACgAMAAgAAAD9/wEABAD6/wAA/v/y//L/9/8EAAMA+P/2//X/8v/+/wcABgAQABMABQD3//b/BAAOABsAGgAJAAMA/f/w/+n/+v/7//7/CADz/+L/0f/P/+f/9P/r/9f/y//M/9z/6f/0//n/BQD+/+3/5f/i/+7/BAAHAPP/7//w/+3/8P/0/wwAEwAHAAMA//8CAPb/9/8EAAwAEgAfABwADAAgACwAFwADAAcADwAeADAAOgAxABgADgAGABMAJQAmACAABgD+/wAA9f/7/w4AGQASAAQA/P/y//X/AQAQABcAFQAMAPz/7v/8/xMAHAAYABUADADy/+f/8P8EAAsAFwAMAPL/5//i/+D/6P8HAAQA9//5//D/8P/w//X//f/8//f/6f/c/+j/+/8PABYAFQAdABUA/P/x//b/7//x/w0AHgAXAAMABAAJAAsAFwAOAAsACAAFAP3/4f/W/+n/+P/5//f/9P/o/9b/3P/m/+//7P/n/+D/1//Z/+D/6//1//H/9//9//D/9f/8//j/8f/v//T/AAD2/+z/8//1//L/9P8CAA4ABgAKAAkA8//z//7/+/8AABMAEwACAO3/9P8AAAYAFgAZABQACQAIAAwAGQAqACkAHQAFAAQADgAHAA0AIgAqABsACwACAAUADwAbABsAEgAJAA0ADAAEAAcADQAVABMAGgAPAPv/AgACAAEABQAAAN//0v/2/w0ADADz/+D/3v/R/9//9v8MAAUA7f/Y/8X/1v/0/wQAAADx/+n/3//f/+r/9P8EAPL/2P/P/9j/5P/v//r/CgABAOf/4//w/woAEQAPAAoA+v/2/wIA/f/v//z/AwD3/+7/6P/v//L/8v/2//X/7v/z//X/+P/3//z/BgAGAAkA/P/u/+///v8JAAMABQD4/+z/8//z//v/9P8DACAAFQANABUAFwAQABMACAD5//v/DAAXABEA/P/w/+z/+P8MABgAEgABAAEABgAJAAUABAAHAAcACgAQAA8AGAAgACQAEgD5//v/AAAEAA8ABgD//wYACwAFAAsADwAYABkAEQASAAUA+//0//P//f8OAAgA9//9/wEA8P/n/+//9v/l/+P/7f/0//f////5//X//f/4//X/8P/v/wAACgAFAO7/8P8CAPf/9f/0/+j/4f/r//b/+f/2/+j/3P/i/+f/9/8BAAUA///x/+b/3v/h//H/BgAAANz/2v/t//f/AQACAP//8P/y/wEACQAeACgALgAkAAkA+v8HACQAKAAoADEAGgD6/+v/6f/l//j/CAALAAEA+v/3//n/CwARABIACgD3/+7/9/8FACQAMAArABoA/P/k/+3/DwAfABwAEwAEAAMAAQAJABgAEQAGAAwAEQAKAPz/9v/2//b/BgAbABIABwAFAAEAAwD7/wIA+f/w/+j/9f////v/8v/q/+7/+v/9//X/3v/X//D///8EAAIAAAAAAAIA/////wEAAgAKAAYACAAKAAkABwAGABQAIQAcAAcA/v/2//D/8//+/w4AAQDm/+3/9v/n/+T/4f/b/8//0P/i//P/AAATAA4A7f/c//L/FQAeABcAFAAAAOb/6v///xQAHAASAA4AAwD6//n/AAARABoAEQD9/+v/6f8CABoADAD//wYA/v8FAPr/+P8KABcAHgAOAPb/6f/z////CQAMAAoAEwAQAAYAAQAAAPv/9P/4/wQADwATAAMA8v/y/wQAEAAcADEAOgApAAYAAgATACEAJQAoACsAHAAPAAIABQAMABsAGgADAOr/zv/J/97/9v8EAAMA7v/G/6//vf/T/+P/7/////b/7v/t//D//v8KABQAEQAAAO//+v8LABEADwAPAAUA6//n//f/BgAKAAEA7//s//L/+v8FAA0ADQANAAkA/P/0/+v/8f/9//T/6f/q/+X/6P8AABsAGQAFAPH/7P/2/wEACQARAAsA+P/r//n/CgAUACYAKwAbAA8AAgDy//3/HwA4AD4APAApAAwA+//9/wwAFQAWAAoA8f/z//L/7P/j/93/5//q/+3/5f/V/87/2//u/wAACwAEAPf/6f/f//f/IQBEAEYARAA5AB8AEwAXACUAPABMADkAFAAIAAAA9P8LAB0AFwD7/9n/w//J/9v/5//7/wkABADp/9L/0v/t//r/AQAEAP7/+v/+/wgADAALAP7/8//1//n//P8NABYAEgAOAA4AAQD8/wAA/P////v//v/y//L//v/2//j/9//W/8P/zP/m/wEACQABAOL/0P/I/87/3//y//f/6//d/93/9v/3//P/+P/7//L/7v/3/wgAKQA8AEEAQgAuABYAGgAkACQAKAAuABwADQARAB4AHwASAPb/6P///wsABwAGABIADQDv/97/3v/v//r/8P/t//T//f8DAAgAIAAwAC4AEwD7/wMAFAAfACoANQA3ACgAAADo//j/CAAOAA0ABgD3//L/6f/e//D/DQAOAPL/1//E/9X/7v/z//P/AQADAPL/6f/n//f/BQAFAA0AGQAiAA0A+P8FABAADgAFAPX/+/8OAAwA+P/t//b/BgAKAAIA8//x/+7/4f/v//r/BgAGAO//4v/k/+H/zP/L/9//3//f/9L/0P/W/+H/8f/1//P/8P/3//3/+f8DABkAIAAJAPb/AgAYABoAGwAcABsAMQAyACAAIQAjACUAFAABAPP/7f/1//3/EAATAAgA7v/U/+L/BAAXABEACQABAPD/8P8CABQAGwAPAAcADgAFAPv/CAAbACQAIQAOAP3/9v/+/xMAJQAuADEALgAhAA4AAgAPABoAEwAPAAsAAQDz/+v/9//9//v/AAADAP//6P/b/+L/6P/x//P/3//F/8v/zv+8/7L/wv/O/9r/3f/Y/9z/7v8AAPv/9f8CABIAGAAfACYALwAwACgAKwAlABcACgADAAMACgAXABAA8v/s/wAA+f/Y/9X/5f/t/+H/y//S/9j/1P/U/9P/0v/d/+v/6/8BABMAGAAfACMAFgAcACcAJAApAC4AOQA4AC8AKgAlACgAIAAKAPz/AQAEAAYABwD+//n/+//2/+D/1//o/+j/1P/Q/+H/5//t/+n/5f/n/+b/7P/x//3/AwD+/wMADgAgADEAIwAJAAkAFQAUAAgACwAqAEIAQAA9ADsAKgAnADIAMQArABgADwAKAAEA/P/s/9r/1v/g/9j/y//D/9H/3v/g/9//2f/S/8X/yf/T/+T//v8QABYAAADv//v/CAATABoAHQAjAC0ALQAkACgAMgA7ADgAJgAUAAMA7v/t//3/CAD3/8z/sv+e/5f/lv+R/6b/wf/I/8H/tv+//8f/w//Q/+P/4v/i/+b/9f8TADIASAA/ADgAMAAwAEIAUABbAF8AXwBTAE4AQAArAB0ADwASAA4AAQACAA0ACgAFAPr/7f/g/9D/z//V/9v/3//1//n/6P/Y/9X/5v/r//b/BgAPABwAJgArACgAHwAeACcAHQAXACQAMAA2ADoANgAhAAcA9P/q//b/+P/2/wMADQAQAAAA8P/v//b/AAD6/+X/zP/D/8j/u//C/9//5v/b/9X/z//U/+z/CgAXACgAMgApAB0AFAAhACsAJwAvADQALQAtACUAIQApAC0AKAAOAPj/8f/y//P/9v/5/wMA///o/8//t/+u/77/0P/M/9n/3//X/9D/y//b/+T/8v8TABwADwALAAsAEQAeABwADADz/+H/5//s//f/EwApAC8AIAAEAPT/5v/l/+//9//9//r/9v/x/+j/3v/l//H//P8KAPr/7f/0/wYAIQA0ACwAKQAuAB8AIAAjACUANQA+AEUAPQAwACMAFQATACMALgAtACEAGQARAAkADQAXABMABgD9//b/6P/r//H/7v/n/+r//v8IAPX/4//g/+j/8v/9/wMA9v/u/+j/5P/g/93/3v/p/+n/8v/4//D/8f/7/wIABwAJAP7/8f/q/+z/BQAZABEABwD8/+//4//a/+P/6f/3/wsAEAAKAP7/8P/y//z/AgALAAkADAAIAPj/8//w//D/9v8AAAEA//8KABEAFgAiACkAMgAuACMAIwAUAAkAEAAeACQAFwAMAAQA+P/v//H/+P/7//z/BAD8//D/6P/r/+7/5v/r/+f/4f/d/9P/1//u/wIABgD8//P/8//2//n//P8DAA8AGQAZAA0AAgABAAMAAAD3//v/BAACAAQABAADAAYACgAbABEA/v8BAAQA+P/3/w0AGQAcABgAFAALAPv/+/8PACEAJAAmABgADgAFAPr/AAAIABUAHQASAAwAFgAWABMAFAARAAoA/v/0//H/8P/2/wIAAwD+//j/5//g/+P/4//u/+3/7P/q/+H/3v/U/9T/1//d/+b/6v/o/93/0//T/9L/2//t/+v/4f/d/+f/7//8/wUAEQAhACEAHQAXAAkACAALAAwAGwAfABQAEQAOAA8AEAAGAP///P8FAAkAAQD3//r/BwARAA0ADQATAA4ACAAZACYAKwAwADAAIwAaAB4AHgAWABUAKQA1ADUAJgAcABMABwAHAA==\" type=\"audio/x-wav\" />\n",
              "                    Your browser does not support the audio element.\n",
              "                </audio>\n",
              "              "
            ],
            "text/plain": [
              "<IPython.lib.display.Audio object>"
            ]
          },
          "metadata": {},
          "execution_count": 79
        }
      ]
    },
    {
      "cell_type": "code",
      "source": [
        "y, sr = librosa.load(picked, sr = 16000)\n",
        "sample = librosa.resample(y, orig_sr = sr, target_sr = MY_RATE)\n",
        "sample = pad_sequences(np.array(sample).reshape(1, -1), maxlen = MY_RATE, padding = 'post', dtype = float)"
      ],
      "metadata": {
        "id": "n1RyjST4mI_m"
      },
      "execution_count": 80,
      "outputs": []
    },
    {
      "cell_type": "code",
      "source": [
        "sample = np.array(sample).reshape(-1, MY_RATE, 1)\n",
        "print(audio_to_text(sample))"
      ],
      "metadata": {
        "colab": {
          "base_uri": "https://localhost:8080/"
        },
        "id": "jJNkexfDmiC_",
        "outputId": "dba431ea-bb93-48fc-bfdf-c3d113b008a8"
      },
      "execution_count": 81,
      "outputs": [
        {
          "output_type": "stream",
          "name": "stdout",
          "text": [
            "go\n"
          ]
        }
      ]
    },
    {
      "cell_type": "code",
      "source": [
        "fig, loss_ax = plt.subplots()\n",
        "loss_ax.plot(hist.history['loss'], 'y', label = 'train loss')\n",
        "loss_ax.set_xlabel('epoch')\n",
        "loss_ax.set_ylabel('loss')\n",
        "loss_ax.legend(loc = 'upper left')\n",
        "\n",
        "acc_ax = loss_ax.twinx()\n",
        "acc_ax.plot(hist.history['acc'], 'b', label = 'train acc')\n",
        "acc_ax.set_ylabel('accuracy')\n",
        "acc_ax.legend(loc = 'lower left')\n",
        "plt.show()"
      ],
      "metadata": {
        "colab": {
          "base_uri": "https://localhost:8080/",
          "height": 279
        },
        "id": "HvYjzqC_nIaq",
        "outputId": "dc29d39d-cdd2-47fd-fc09-5336acb95292"
      },
      "execution_count": 69,
      "outputs": [
        {
          "output_type": "display_data",
          "data": {
            "image/png": "[encoded data removed]",
            "text/plain": [
              "<Figure size 432x288 with 2 Axes>"
            ]
          },
          "metadata": {
            "needs_background": "light"
          }
        }
      ]
    },
    {
      "cell_type": "code",
      "source": [
        ""
      ],
      "metadata": {
        "id": "BcZKcngTnnT7"
      },
      "execution_count": null,
      "outputs": []
    }
  ]
}