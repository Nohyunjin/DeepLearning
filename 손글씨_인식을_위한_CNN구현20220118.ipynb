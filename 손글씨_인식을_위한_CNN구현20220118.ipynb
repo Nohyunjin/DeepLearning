{
  "nbformat": 4,
  "nbformat_minor": 0,
  "metadata": {
    "colab": {
      "name": "손글씨 인식을 위한 CNN구현20220118.ipynb",
      "provenance": [],
      "machine_shape": "hm",
      "authorship_tag": "ABX9TyML6XAchpZGgq91zo52mZb5",
      "include_colab_link": true
    },
    "kernelspec": {
      "name": "python3",
      "display_name": "Python 3"
    },
    "language_info": {
      "name": "python"
    },
    "accelerator": "GPU"
  },
  "cells": [
    {
      "cell_type": "markdown",
      "metadata": {
        "id": "view-in-github",
        "colab_type": "text"
      },
      "source": [
        "<a href=\"https://colab.research.google.com/github/Nohyunjin/DeepLearning/blob/main/%EC%86%90%EA%B8%80%EC%94%A8_%EC%9D%B8%EC%8B%9D%EC%9D%84_%EC%9C%84%ED%95%9C_CNN%EA%B5%AC%ED%98%8420220118.ipynb\" target=\"_parent\"><img src=\"https://colab.research.google.com/assets/colab-badge.svg\" alt=\"Open In Colab\"/></a>"
      ]
    },
    {
      "cell_type": "code",
      "execution_count": 10,
      "metadata": {
        "colab": {
          "base_uri": "https://localhost:8080/"
        },
        "id": "XVMW6jAQwVZc",
        "outputId": "a408efdc-e5b3-4d38-a11f-97211c7d546f"
      },
      "outputs": [
        {
          "output_type": "stream",
          "name": "stdout",
          "text": [
            "train_X shape: (60000, 28, 28, 1)\n",
            "60000 train samples\n",
            "10000 test samples\n",
            "Epoch 1/10\n",
            "469/469 [==============================] - 3s 4ms/step - loss: 0.4370 - accuracy: 0.8616 - val_loss: 0.0770 - val_accuracy: 0.9763\n",
            "Epoch 2/10\n",
            "469/469 [==============================] - 2s 4ms/step - loss: 0.1276 - accuracy: 0.9626 - val_loss: 0.0536 - val_accuracy: 0.9828\n",
            "Epoch 3/10\n",
            "469/469 [==============================] - 2s 4ms/step - loss: 0.0947 - accuracy: 0.9718 - val_loss: 0.0356 - val_accuracy: 0.9887\n",
            "Epoch 4/10\n",
            "469/469 [==============================] - 2s 4ms/step - loss: 0.0761 - accuracy: 0.9774 - val_loss: 0.0335 - val_accuracy: 0.9887\n",
            "Epoch 5/10\n",
            "469/469 [==============================] - 2s 4ms/step - loss: 0.0652 - accuracy: 0.9805 - val_loss: 0.0314 - val_accuracy: 0.9903\n",
            "Epoch 6/10\n",
            "469/469 [==============================] - 2s 4ms/step - loss: 0.0592 - accuracy: 0.9823 - val_loss: 0.0290 - val_accuracy: 0.9899\n",
            "Epoch 7/10\n",
            "469/469 [==============================] - 2s 4ms/step - loss: 0.0525 - accuracy: 0.9847 - val_loss: 0.0280 - val_accuracy: 0.9908\n",
            "Epoch 8/10\n",
            "469/469 [==============================] - 2s 4ms/step - loss: 0.0472 - accuracy: 0.9861 - val_loss: 0.0258 - val_accuracy: 0.9925\n",
            "Epoch 9/10\n",
            "469/469 [==============================] - 2s 4ms/step - loss: 0.0449 - accuracy: 0.9867 - val_loss: 0.0269 - val_accuracy: 0.9921\n",
            "Epoch 10/10\n",
            "469/469 [==============================] - 2s 4ms/step - loss: 0.0415 - accuracy: 0.9874 - val_loss: 0.0274 - val_accuracy: 0.9914\n",
            "Test loss: 0.027393484488129616\n",
            "Test accuracy: 0.9914000034332275\n"
          ]
        }
      ],
      "source": [
        "import tensorflow as tf\n",
        "from tensorflow.keras.datasets import mnist\n",
        "from tensorflow.keras.models import Sequential\n",
        "from tensorflow.keras.layers import Dense, Dropout, Flatten\n",
        "from tensorflow.keras.layers import Conv2D, MaxPooling2D\n",
        "\n",
        "(train_X, train_y), (test_X, test_y) = mnist.load_data()\n",
        "\n",
        "train_X = train_X.reshape(train_X.shape[0], 28, 28, 1)\n",
        "test_X = test_X.reshape(test_X.shape[0], 28, 28, 1)\n",
        "\n",
        "train_X = train_X.astype(\"float32\")\n",
        "test_X = test_X.astype(\"float32\")\n",
        "train_X /= 255\n",
        "test_X /= 255\n",
        "print(\"train_X shape:\", train_X.shape)\n",
        "print(train_X.shape[0], \"train samples\")\n",
        "print(test_X.shape[0], \"test samples\")\n",
        "\n",
        "train_y = tf.keras.utils.to_categorical(train_y, 10)\n",
        "test_y = tf.keras.utils.to_categorical(test_y, 10)\n",
        "\n",
        "model = Sequential()\n",
        "model.add(Conv2D(32, (5, 5), padding = 'same',input_shape = (28, 28, 1), activation = \"relu\",))\n",
        "model.add(MaxPooling2D(pool_size = (3, 3)))\n",
        "model.add(Dropout(0.1))\n",
        "\n",
        "model.add(Conv2D(64, (5, 5), activation = \"relu\"))\n",
        "model.add(MaxPooling2D(pool_size = (2, 2)))\n",
        "model.add(Dropout(0.25))\n",
        "\n",
        "model.add(Flatten())\n",
        "model.add(Dense(128, activation = \"relu\"))\n",
        "model.add(Dropout(0.5))\n",
        "model.add(Dense(10, activation = \"softmax\"))\n",
        "\n",
        "model.compile(loss = tf.keras.losses.categorical_crossentropy,\n",
        "              optimizer = tf.keras.optimizers.Adam(), metrics = ['accuracy'])\n",
        "\n",
        "hist = model.fit(train_X, train_y, validation_data = (test_X, test_y),\n",
        "                 batch_size = 128, epochs = 10, verbose = 1)\n",
        "\n",
        "score = model.evaluate(test_X, test_y, verbose = 0)\n",
        "print(\"Test loss:\", score[0])\n",
        "print(\"Test accuracy:\", score[1])"
      ]
    },
    {
      "cell_type": "code",
      "source": [
        "model.summary()"
      ],
      "metadata": {
        "colab": {
          "base_uri": "https://localhost:8080/"
        },
        "id": "ks2hJRjr1Ylb",
        "outputId": "f46e5a27-5591-4544-b1f4-a6b8783c58e0"
      },
      "execution_count": 11,
      "outputs": [
        {
          "output_type": "stream",
          "name": "stdout",
          "text": [
            "Model: \"sequential_6\"\n",
            "_________________________________________________________________\n",
            " Layer (type)                Output Shape              Param #   \n",
            "=================================================================\n",
            " conv2d_12 (Conv2D)          (None, 28, 28, 32)        832       \n",
            "                                                                 \n",
            " max_pooling2d_12 (MaxPoolin  (None, 9, 9, 32)         0         \n",
            " g2D)                                                            \n",
            "                                                                 \n",
            " dropout_18 (Dropout)        (None, 9, 9, 32)          0         \n",
            "                                                                 \n",
            " conv2d_13 (Conv2D)          (None, 5, 5, 64)          51264     \n",
            "                                                                 \n",
            " max_pooling2d_13 (MaxPoolin  (None, 2, 2, 64)         0         \n",
            " g2D)                                                            \n",
            "                                                                 \n",
            " dropout_19 (Dropout)        (None, 2, 2, 64)          0         \n",
            "                                                                 \n",
            " flatten_6 (Flatten)         (None, 256)               0         \n",
            "                                                                 \n",
            " dense_12 (Dense)            (None, 128)               32896     \n",
            "                                                                 \n",
            " dropout_20 (Dropout)        (None, 128)               0         \n",
            "                                                                 \n",
            " dense_13 (Dense)            (None, 10)                1290      \n",
            "                                                                 \n",
            "=================================================================\n",
            "Total params: 86,282\n",
            "Trainable params: 86,282\n",
            "Non-trainable params: 0\n",
            "_________________________________________________________________\n"
          ]
        }
      ]
    },
    {
      "cell_type": "code",
      "source": [
        "%matplotlib inline\n",
        "import matplotlib.pyplot as plt\n",
        "\n",
        "fig, loss_ax = plt.subplots()\n",
        "loss_ax.plot(hist.history['loss'], 'y', label='train loss')\n",
        "loss_ax.plot(hist.history['val_loss'], 'r', label='val loss')\n",
        "loss_ax.set_xlabel('epoch')\n",
        "loss_ax.set_ylabel('loss')\n",
        "loss_ax.legend(loc='upper left')\n",
        "\n",
        "acc_ax = loss_ax.twinx()\n",
        "acc_ax.plot(hist.history['accuracy'], 'b', label='train acc')\n",
        "acc_ax.plot(hist.history['val_accuracy'], 'g', label='val acc')\n",
        "acc_ax.set_ylabel('accuray')\n",
        "acc_ax.legend(loc='lower left')\n",
        "plt.show()"
      ],
      "metadata": {
        "colab": {
          "base_uri": "https://localhost:8080/",
          "height": 279
        },
        "id": "bqE0uPFC4RWp",
        "outputId": "20a219ee-a1e8-402c-fc3d-3162b1260d88"
      },
      "execution_count": 16,
      "outputs": [
        {
          "output_type": "display_data",
          "data": {
            "image/png": "[encoded data removed]",
            "text/plain": [
              "<Figure size 432x288 with 2 Axes>"
            ]
          },
          "metadata": {
            "needs_background": "light"
          }
        }
      ]
    },
    {
      "cell_type": "code",
      "source": [
        ""
      ],
      "metadata": {
        "id": "CveUjYXAHGZF"
      },
      "execution_count": null,
      "outputs": []
    }
  ]
}