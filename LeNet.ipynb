{
  "nbformat": 4,
  "nbformat_minor": 0,
  "metadata": {
    "colab": {
      "name": "LeNet.ipynb",
      "provenance": [],
      "machine_shape": "hm",
      "authorship_tag": "ABX9TyPXVU7d440zm2Bz4odyl9Bm",
      "include_colab_link": true
    },
    "kernelspec": {
      "name": "python3",
      "display_name": "Python 3"
    },
    "language_info": {
      "name": "python"
    },
    "accelerator": "GPU"
  },
  "cells": [
    {
      "cell_type": "markdown",
      "metadata": {
        "id": "view-in-github",
        "colab_type": "text"
      },
      "source": [
        "<a href=\"https://colab.research.google.com/github/Nohyunjin/DeepLearning/blob/main/LeNet.ipynb\" target=\"_parent\"><img src=\"https://colab.research.google.com/assets/colab-badge.svg\" alt=\"Open In Colab\"/></a>"
      ]
    },
    {
      "cell_type": "code",
      "execution_count": 1,
      "metadata": {
        "colab": {
          "base_uri": "https://localhost:8080/"
        },
        "id": "bIkdNveQLkr6",
        "outputId": "9693791c-c26f-4357-fc8a-4b3710cce1b7"
      },
      "outputs": [
        {
          "output_type": "stream",
          "name": "stdout",
          "text": [
            "Downloading data from https://storage.googleapis.com/tensorflow/tf-keras-datasets/mnist.npz\n",
            "11493376/11490434 [==============================] - 0s 0us/step\n",
            "11501568/11490434 [==============================] - 0s 0us/step\n",
            "train_X shape: (60000, 28, 28, 1)\n",
            "60000 train samples\n",
            "10000 test samples\n"
          ]
        }
      ],
      "source": [
        "import tensorflow as tf\n",
        "from tensorflow.keras.datasets import mnist\n",
        "from tensorflow.keras.models import Sequential\n",
        "from tensorflow.keras.layers import Dense, Dropout, Flatten\n",
        "from tensorflow.keras.layers import Conv2D, MaxPooling2D, AveragePooling2D\n",
        "\n",
        "(train_X, train_y), (test_X, test_y) = mnist.load_data()\n",
        "\n",
        "train_X = train_X.reshape(-1, 28, 28, 1)\n",
        "test_X = test_X.reshape(-1, 28, 28, 1)\n",
        "\n",
        "train_X = train_X.astype(\"float32\") / 255\n",
        "test_X = test_X.astype(\"float32\") / 255\n",
        "print(\"train_X shape:\", train_X.shape)\n",
        "print(train_X.shape[0], \"train samples\")\n",
        "print(test_X.shape[0], \"test samples\")\n",
        "\n",
        "train_y = tf.keras.utils.to_categorical(train_y, 10)\n",
        "test_y = tf.keras.utils.to_categorical(test_y, 10)\n",
        "\n",
        "model = Sequential()\n",
        "model.add(Conv2D(6, (5, 5), padding = 'valid', input_shape = (32, 32, 1), activation = \"relu\",))\n",
        "model.add(AveragePooling2D(pool_size = (2, 2)))\n",
        "\n",
        "model.add(Conv2D(16, (5, 5), padding = 'valid', activation = \"relu\"))\n",
        "model.add(AveragePooling2D(pool_size = (2, 2)))\n",
        "\n",
        "model.add(Flatten())\n",
        "model.add(Dense(120, activation = \"relu\"))\n",
        "model.add(Dense(84, activation = \"relu\"))\n",
        "model.add(Dense(10, activation = \"softmax\"))\n",
        "\n",
        "model.compile(loss = tf.keras.losses.categorical_crossentropy,\n",
        "              optimizer = tf.keras.optimizers.Adam(), metrics = ['accuracy'])"
      ]
    },
    {
      "cell_type": "code",
      "source": [
        "model.summary()"
      ],
      "metadata": {
        "colab": {
          "base_uri": "https://localhost:8080/"
        },
        "id": "wlTd9d6WMkmi",
        "outputId": "4bc8fc57-5a1c-40a1-8d8a-934a77ab443e"
      },
      "execution_count": 2,
      "outputs": [
        {
          "output_type": "stream",
          "name": "stdout",
          "text": [
            "Model: \"sequential\"\n",
            "_________________________________________________________________\n",
            " Layer (type)                Output Shape              Param #   \n",
            "=================================================================\n",
            " conv2d (Conv2D)             (None, 28, 28, 6)         156       \n",
            "                                                                 \n",
            " average_pooling2d (AverageP  (None, 14, 14, 6)        0         \n",
            " ooling2D)                                                       \n",
            "                                                                 \n",
            " conv2d_1 (Conv2D)           (None, 10, 10, 16)        2416      \n",
            "                                                                 \n",
            " average_pooling2d_1 (Averag  (None, 5, 5, 16)         0         \n",
            " ePooling2D)                                                     \n",
            "                                                                 \n",
            " flatten (Flatten)           (None, 400)               0         \n",
            "                                                                 \n",
            " dense (Dense)               (None, 120)               48120     \n",
            "                                                                 \n",
            " dense_1 (Dense)             (None, 84)                10164     \n",
            "                                                                 \n",
            " dense_2 (Dense)             (None, 10)                850       \n",
            "                                                                 \n",
            "=================================================================\n",
            "Total params: 61,706\n",
            "Trainable params: 61,706\n",
            "Non-trainable params: 0\n",
            "_________________________________________________________________\n"
          ]
        }
      ]
    },
    {
      "cell_type": "code",
      "source": [
        "hist = model.fit(train_X, train_y, validation_data = (test_X, test_y),\n",
        "                 batch_size = 128, epochs = 10, verbose = 1)\n",
        "\n",
        "score = model.evaluate(test_X, test_y, verbose = 0)\n",
        "print(\"Test loss:\", score[0])\n",
        "print(\"Test accuracy:\", score[1])"
      ],
      "metadata": {
        "id": "N1DQgYRGMl8Z"
      },
      "execution_count": null,
      "outputs": []
    },
    {
      "cell_type": "code",
      "source": [
        "class LeNet:\n",
        "    @staticmethod\n",
        "    def build():\n",
        "        model = Sequential()\n",
        "        model.add(Conv2D(6, (5, 5), padding = 'valid', input_shape = (32, 32, 1), activation = \"relu\",))\n",
        "        model.add(AveragePooling2D(pool_size = (2, 2)))\n",
        "\n",
        "        model.add(Conv2D(16, (5, 5), padding = 'valid', activation = \"relu\"))\n",
        "        model.add(AveragePooling2D(pool_size = (2, 2)))\n",
        "\n",
        "        model.add(Flatten())\n",
        "        model.add(Dense(120, activation = \"relu\"))\n",
        "        model.add(Dense(84, activation = \"relu\"))\n",
        "        model.add(Dense(10, activation = \"softmax\"))\n",
        "\n",
        "        return model"
      ],
      "metadata": {
        "id": "54CWkiiMNU4A"
      },
      "execution_count": 6,
      "outputs": []
    },
    {
      "cell_type": "code",
      "source": [
        "model = LeNet.build()"
      ],
      "metadata": {
        "id": "jW8X3bX4NVPl"
      },
      "execution_count": 7,
      "outputs": []
    },
    {
      "cell_type": "code",
      "source": [
        "model.summary()"
      ],
      "metadata": {
        "colab": {
          "base_uri": "https://localhost:8080/"
        },
        "id": "QffvL5f0NZ_C",
        "outputId": "4c3dce15-35ad-48f1-a216-81c8ab0764b8"
      },
      "execution_count": 8,
      "outputs": [
        {
          "output_type": "stream",
          "name": "stdout",
          "text": [
            "Model: \"sequential_1\"\n",
            "_________________________________________________________________\n",
            " Layer (type)                Output Shape              Param #   \n",
            "=================================================================\n",
            " conv2d_2 (Conv2D)           (None, 28, 28, 6)         156       \n",
            "                                                                 \n",
            " average_pooling2d_2 (Averag  (None, 14, 14, 6)        0         \n",
            " ePooling2D)                                                     \n",
            "                                                                 \n",
            " conv2d_3 (Conv2D)           (None, 10, 10, 16)        2416      \n",
            "                                                                 \n",
            " average_pooling2d_3 (Averag  (None, 5, 5, 16)         0         \n",
            " ePooling2D)                                                     \n",
            "                                                                 \n",
            " flatten_1 (Flatten)         (None, 400)               0         \n",
            "                                                                 \n",
            " dense_3 (Dense)             (None, 120)               48120     \n",
            "                                                                 \n",
            " dense_4 (Dense)             (None, 84)                10164     \n",
            "                                                                 \n",
            " dense_5 (Dense)             (None, 10)                850       \n",
            "                                                                 \n",
            "=================================================================\n",
            "Total params: 61,706\n",
            "Trainable params: 61,706\n",
            "Non-trainable params: 0\n",
            "_________________________________________________________________\n"
          ]
        }
      ]
    },
    {
      "cell_type": "code",
      "source": [
        ""
      ],
      "metadata": {
        "id": "n5pNhhlVNdkz"
      },
      "execution_count": null,
      "outputs": []
    }
  ]
}