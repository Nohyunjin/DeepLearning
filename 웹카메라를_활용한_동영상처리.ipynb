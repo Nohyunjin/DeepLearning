{
  "cells": [
    {
      "cell_type": "markdown",
      "metadata": {
        "id": "view-in-github",
        "colab_type": "text"
      },
      "source": [
        "<a href=\"https://colab.research.google.com/github/Nohyunjin/DeepLearning/blob/main/%EC%9B%B9%EC%B9%B4%EB%A9%94%EB%9D%BC%EB%A5%BC_%ED%99%9C%EC%9A%A9%ED%95%9C_%EB%8F%99%EC%98%81%EC%83%81%EC%B2%98%EB%A6%AC.ipynb\" target=\"_parent\"><img src=\"https://colab.research.google.com/assets/colab-badge.svg\" alt=\"Open In Colab\"/></a>"
      ]
    },
    {
      "cell_type": "code",
      "execution_count": null,
      "id": "7b1bf38a",
      "metadata": {
        "id": "7b1bf38a",
        "outputId": "9c69a3a1-938e-4cdd-c6b2-cc6c3473c090"
      },
      "outputs": [
        {
          "name": "stdout",
          "output_type": "stream",
          "text": [
            "ESC Key pressed\n"
          ]
        }
      ],
      "source": [
        "import cv2\n",
        "\n",
        "cap = cv2.VideoCapture(0)\n",
        "\n",
        "if cap.isOpened():\n",
        "    delay = int(1000/cap.get(cv2.CAP_PROP_FPS))\n",
        "    while True:\n",
        "        ret, img = cap.read()\n",
        "        if ret:\n",
        "            img_gray = cv2.cvtColor(img, cv2.COLOR_BGR2RGB)\n",
        "            cv2.imshow(\"Movie\", img_gray)\n",
        "            if cv2.waitKey(delay) & 0xFF == 27:\n",
        "                print(\"ESC Key pressed\")\n",
        "                break\n",
        "        else:\n",
        "            print(ret, img)\n",
        "            break\n",
        "else:\n",
        "    print(\"File not opened\")\n",
        "    \n",
        "cap.release()\n",
        "cv2.destroyAllWindows()"
      ]
    },
    {
      "cell_type": "code",
      "execution_count": null,
      "id": "d5cf7046",
      "metadata": {
        "id": "d5cf7046"
      },
      "outputs": [],
      "source": [
        "import cv2\n",
        "import numpy as np\n",
        "\n",
        "def mouseHandler(event, x, y, flags, params) :\n",
        "    if event == cv2.EVENT_LBUTTONDBLCLK :\n",
        "        cv2.circle(img, (x, y), 20, (255, 0, 0), -1)\n",
        "    elif event == cv2.EVENT_LBUTTONDOWN :\n",
        "        if flags & cv2.EVENT_FLAG_CTRLKEY :\n",
        "            cv2.rectangle(img, (x - 10, y - 10), (x + 10, y + 10), (0, 0, 225), -1)\n",
        "        else :\n",
        "            cv2.rectangle(img, (x - 10, y - 10), (x + 10, y + 10), (0, 255, 0), 2)\n",
        "    elif event == cv2.EVENT_RBUTTONDOWN :\n",
        "        cv2.circle(img, (x, y), 10, (255, 0, 0), 2)\n",
        "        \n",
        "img = np.full((512, 512, 3), 255, dtype = np.uint8)\n",
        "cv2.namedWindow('image')\n",
        "cv2.setMouseCallback('image', mouseHandler)\n",
        "\n",
        "while(1) :\n",
        "    cv2.imshow('image', img)\n",
        "    if cv2.waitKey(20) & 0xFF == 27 :\n",
        "        break\n",
        "\n",
        "cv2.destroyAllWindows()"
      ]
    },
    {
      "cell_type": "code",
      "execution_count": null,
      "id": "64ab7d52",
      "metadata": {
        "id": "64ab7d52",
        "outputId": "5fbba8df-cb88-4a6f-e8ca-dad41d61b793"
      },
      "outputs": [
        {
          "name": "stdout",
          "output_type": "stream",
          "text": [
            "Code : 100, Char: d\n",
            "Code : 49, Char: 1\n",
            "Code : 50, Char: 2\n",
            "Code : 51, Char: 3\n",
            "Code : 52, Char: 4\n",
            "Code : 53, Char: 5\n",
            "Code : 54, Char: 6\n",
            "Code : 55, Char: 7\n",
            "Code : 113, Char: q\n",
            "Code : 101, Char: e\n",
            "Code : 114, Char: r\n",
            "Code : 116, Char: t\n",
            "Code : 97, Char: a\n",
            "Code : 83, Char: S\n",
            "Code : 65, Char: A\n",
            "Code : 68, Char: D\n",
            "Code : 70, Char: F\n",
            "Code : 27, Char: \u001b\n"
          ]
        }
      ],
      "source": [
        "import cv2\n",
        "import numpy as np\n",
        "\n",
        "image = np.full((100, 100, 3), 255, np.uint8)\n",
        "while(1) :\n",
        "    cv2.imshow(\"Key test\", image)\n",
        "    key = cv2.waitKey()\n",
        "    print(f'Code : {key}, Char: {chr(key)}')\n",
        "    if key & 0xff == 27:\n",
        "        break\n",
        "\n",
        "cv2.destroyAllWindows()"
      ]
    },
    {
      "cell_type": "code",
      "execution_count": null,
      "id": "b598f03a",
      "metadata": {
        "id": "b598f03a"
      },
      "outputs": [],
      "source": [
        "import cv2\n",
        "import numpy as np\n",
        "\n",
        "img = np.zeros((200,500,3), np.uint8)\n",
        "cv2.namedWindow('image')\n",
        "\n",
        "def set_background(x):\n",
        "    global img\n",
        "    r = cv2.getTrackbarPos('Red', 'image')\n",
        "    g = cv2.getTrackbarPos('Green', 'image')\n",
        "    b = cv2.getTrackbarPos('Blue', 'image')\n",
        "    s = cv2.getTrackbarPos('0 or 1', 'image')\n",
        "    if s == 0:\n",
        "        img[:] = 0\n",
        "    else :\n",
        "        img[:] = [b, g, r]\n",
        "        \n",
        "cv2.createTrackbar('Red', 'image', 0, 255, set_background)\n",
        "cv2.createTrackbar('Green', 'image', 0, 255, set_background)\n",
        "cv2.createTrackbar('Blue', 'image', 0, 255, set_background)\n",
        "cv2.createTrackbar('0 or 1', 'image', 0, 1, set_background)\n",
        "\n",
        "while(1):\n",
        "    cv2.imshow('image', img)\n",
        "    k = cv2.waitKey(1) & 0xFF\n",
        "    if k == 27:\n",
        "        break\n",
        "\n",
        "cv2.destroyAllWindows()"
      ]
    },
    {
      "cell_type": "code",
      "execution_count": null,
      "id": "1c7401e2",
      "metadata": {
        "id": "1c7401e2"
      },
      "outputs": [],
      "source": [
        "import cv2\n",
        "import numpy as np\n",
        "\n",
        "img = np.full((250, 250, 3), 255, dtype = np.uint8)\n",
        "\n",
        "cv2.line(img, (50, 10), (200, 10), (255, 0, 0), 1)\n",
        "cv2.line(img, (50, 60), (200, 60), (0, 255, 0), 2)\n",
        "cv2.line(img, (50, 110), (200, 110), (0, 0, 255), 3)\n",
        "cv2.line(img, (50, 160), (200, 160), (0, 0, 0), 4)\n",
        "cv2.line(img, (50, 210), (200, 210), (255, 0, 255), 5)\n",
        "\n",
        "cv2.imshow('Lines', img)\n",
        "cv2.waitKey()\n",
        "cv2.destroyAllWindows()\n",
        "\n"
      ]
    },
    {
      "cell_type": "code",
      "execution_count": null,
      "id": "bbc638ae",
      "metadata": {
        "id": "bbc638ae"
      },
      "outputs": [],
      "source": [
        "import cv2\n",
        "import numpy as np\n",
        "\n",
        "img = np.full((250, 250, 3), 255, dtype = np.uint8)\n",
        "\n",
        "cv2.rectangle(img, (50, 10), (200, 50), (255, 0, 0))\n",
        "cv2.rectangle(img, (50, 60), (200, 100), (255, 0, 0), 5)\n",
        "cv2.rectangle(img, (50, 110), (200, 150), (255, 0, 0), -1)\n",
        "cv2.rectangle(img, (50, 160), (200, 200), (255, 0, 0), -1)\n",
        "cv2.rectangle(img, (50, 160), (200, 200), (0, 0, 255), 5)\n",
        "\n",
        "cv2.imshow('Rectangle', img)\n",
        "cv2.waitKey()\n",
        "cv2.destroyAllWindows()"
      ]
    },
    {
      "cell_type": "code",
      "execution_count": null,
      "id": "ea911455",
      "metadata": {
        "id": "ea911455"
      },
      "outputs": [],
      "source": [
        "import cv2\n",
        "import numpy as np\n",
        "\n",
        "img = np.full((250, 250, 3), 255, dtype = np.uint8)\n",
        "\n",
        "cv2.circle(img, (50, 50), 50, (255, 0, 0))\n",
        "cv2.circle(img, (100, 100), 50, (0, 255, 0), -1)\n",
        "cv2.circle(img, (100, 100), 100, (0, 0, 255), 5)\n",
        "cv2.circle(img, (200, 200), 50, (0, 0, 0), 5)\n",
        "\n",
        "cv2.imshow('Circle', img)\n",
        "cv2.waitKey()\n",
        "cv2.destroyAllWindows()"
      ]
    },
    {
      "cell_type": "code",
      "execution_count": null,
      "id": "030018db",
      "metadata": {
        "id": "030018db"
      },
      "outputs": [],
      "source": [
        "import cv2\n",
        "import numpy as np\n",
        "\n",
        "img = np.full((300, 300, 3), 255, dtype = np.uint8)\n",
        "\n",
        "cv2.ellipse(img, (60, 60), (50, 30), -30, 0, 360, (255, 0, 0), 2)\n",
        "cv2.ellipse(img, (160, 60), (50, 30), 0, 0, 360, (0, 0, 255), -1)\n",
        "cv2.ellipse(img, (60, 160), (50, 30), 45, 30, 150, (255, 0, 0), 2)\n",
        "cv2.circle(img, (60, 160), 50, (0, 0, 255), 1)\n",
        "cv2.circle(img, (60, 160), 30, (0, 255, 0), 1)\n",
        "cv2.ellipse(img, (160, 160), (50, 30), 90, 0, 180, (255, 0, 0), -1)\n",
        "cv2.ellipse(img, (160, 160), (50, 30), 90, 180, 360, (255, 0, 0), -1)\n",
        "\n",
        "cv2.imshow('Circle', img)\n",
        "cv2.waitKey()\n",
        "cv2.destroyAllWindows()"
      ]
    },
    {
      "cell_type": "code",
      "execution_count": null,
      "id": "3dd6a70e",
      "metadata": {
        "id": "3dd6a70e"
      },
      "outputs": [],
      "source": [
        "import cv2\n",
        "import numpy as np\n",
        "\n",
        "img = np.full((250, 250, 3), 255, dtype = np.uint8)\n",
        "points = np.array([[60,60], [100, 10], [200, 60], [150, 100], [100, 100]], dtype = np.int32)\n",
        "\n",
        "cv2.polylines(img, [points], True, (255, 0, 0), 5)\n",
        "cv2.polylines(img, [points + [0, 100]], False, (0, 0, 255), 10)\n",
        "\n",
        "cv2.imshow('Polylines', img)\n",
        "cv2.waitKey()\n",
        "cv2.destroyAllWindows()"
      ]
    },
    {
      "cell_type": "code",
      "execution_count": null,
      "id": "ce0ae576",
      "metadata": {
        "id": "ce0ae576"
      },
      "outputs": [],
      "source": [
        "import cv2\n",
        "import numpy as np\n",
        "\n",
        "img = np.full((250, 250, 3), 255, dtype = np.uint8)\n",
        "\n",
        "cv2.putText(img, \"Hello Python\", (10, 50), cv2.FONT_ITALIC, 1, (255, 0, 0))\n",
        "cv2.putText(img, \"Hello Python\", (10, 80), cv2.FONT_ITALIC, 0.5, (0, 0, 255))\n",
        "cv2.putText(img, \"Hello Python\", (10, 150), cv2.FONT_HERSHEY_DUPLEX, 2, (0, 0, 0))\n",
        "cv2.putText(img, \"Hello Python\", (10, 200), cv2.FONT_HERSHEY_TRIPLEX, 1, (0, 0, 0))\n",
        "\n",
        "cv2.imshow('Text', img)\n",
        "cv2.waitKey()\n",
        "cv2.destroyAllWindows()"
      ]
    },
    {
      "cell_type": "code",
      "execution_count": null,
      "id": "9fd7c764",
      "metadata": {
        "id": "9fd7c764"
      },
      "outputs": [],
      "source": [
        ""
      ]
    },
    {
      "cell_type": "code",
      "execution_count": null,
      "id": "642c13e4",
      "metadata": {
        "id": "642c13e4"
      },
      "outputs": [],
      "source": [
        ""
      ]
    },
    {
      "cell_type": "code",
      "execution_count": null,
      "id": "036de775",
      "metadata": {
        "id": "036de775"
      },
      "outputs": [],
      "source": [
        ""
      ]
    },
    {
      "cell_type": "code",
      "execution_count": null,
      "id": "6d66307a",
      "metadata": {
        "id": "6d66307a"
      },
      "outputs": [],
      "source": [
        ""
      ]
    },
    {
      "cell_type": "code",
      "execution_count": null,
      "id": "364ad1d4",
      "metadata": {
        "id": "364ad1d4"
      },
      "outputs": [],
      "source": [
        ""
      ]
    },
    {
      "cell_type": "code",
      "execution_count": null,
      "id": "4c537556",
      "metadata": {
        "id": "4c537556"
      },
      "outputs": [],
      "source": [
        ""
      ]
    },
    {
      "cell_type": "code",
      "execution_count": null,
      "id": "51317ff6",
      "metadata": {
        "id": "51317ff6"
      },
      "outputs": [],
      "source": [
        ""
      ]
    },
    {
      "cell_type": "code",
      "execution_count": null,
      "id": "b5a8dbc5",
      "metadata": {
        "id": "b5a8dbc5"
      },
      "outputs": [],
      "source": [
        ""
      ]
    },
    {
      "cell_type": "code",
      "execution_count": null,
      "id": "e0602596",
      "metadata": {
        "id": "e0602596"
      },
      "outputs": [],
      "source": [
        ""
      ]
    },
    {
      "cell_type": "code",
      "execution_count": null,
      "id": "6a5678d6",
      "metadata": {
        "id": "6a5678d6"
      },
      "outputs": [],
      "source": [
        ""
      ]
    },
    {
      "cell_type": "code",
      "execution_count": null,
      "id": "db8f2b04",
      "metadata": {
        "id": "db8f2b04"
      },
      "outputs": [],
      "source": [
        ""
      ]
    },
    {
      "cell_type": "code",
      "execution_count": null,
      "id": "20f10377",
      "metadata": {
        "id": "20f10377"
      },
      "outputs": [],
      "source": [
        ""
      ]
    },
    {
      "cell_type": "code",
      "execution_count": null,
      "id": "f2d572e8",
      "metadata": {
        "id": "f2d572e8"
      },
      "outputs": [],
      "source": [
        ""
      ]
    }
  ],
  "metadata": {
    "kernelspec": {
      "display_name": "Python 3",
      "language": "python",
      "name": "python3"
    },
    "language_info": {
      "codemirror_mode": {
        "name": "ipython",
        "version": 3
      },
      "file_extension": ".py",
      "mimetype": "text/x-python",
      "name": "python",
      "nbconvert_exporter": "python",
      "pygments_lexer": "ipython3",
      "version": "3.8.8"
    },
    "toc": {
      "base_numbering": 1,
      "nav_menu": {},
      "number_sections": true,
      "sideBar": true,
      "skip_h1_title": false,
      "title_cell": "Table of Contents",
      "title_sidebar": "Contents",
      "toc_cell": false,
      "toc_position": {},
      "toc_section_display": true,
      "toc_window_display": false
    },
    "colab": {
      "name": "웹카메라를 활용한 동영상처리.ipynb",
      "provenance": [],
      "include_colab_link": true
    }
  },
  "nbformat": 4,
  "nbformat_minor": 5
}